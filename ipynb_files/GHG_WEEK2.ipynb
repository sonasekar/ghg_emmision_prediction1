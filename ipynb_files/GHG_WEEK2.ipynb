{
  "cells": [
    {
      "cell_type": "markdown",
      "id": "32efb7ab",
      "metadata": {
        "id": "32efb7ab"
      },
      "source": [
        "# Supply Chain Emissions Modeling Using Industry and Commodity Data (2010–2016)"
      ]
    },
    {
      "cell_type": "markdown",
      "id": "a7c1c6fc",
      "metadata": {
        "id": "a7c1c6fc"
      },
      "source": [
        "Problem Statement:\n",
        "\n",
        "You have annual supply chain emission data from 2010–2016 categorized into industries and commodities. The goal is to develop a regression model that can predict the Supply Chain Emission Factors with Margins based on descriptive and quality metrics (substance, unit, reliability, temporal/geographical/technological/data collection correlations, etc.)."
      ]
    },
    {
      "cell_type": "markdown",
      "id": "0eae1c80",
      "metadata": {
        "id": "0eae1c80"
      },
      "source": [
        "# 🌱 Greenhouse Gas Emission Prediction Project\n",
        "\n",
        "![GHG Emissions](https://www.shalom-education.com/wp-content/uploads/2022/12/Shutterstock_1667551381-1-1024x1006.jpg)\n",
        "\n",
        "**Project Goal:**  \n",
        "To analyze and predict greenhouse gas (GHG) emissions from various U.S. industries and commodities using the official dataset from [data.gov](https://catalog.data.gov/dataset/supply-chain-greenhouse-gas-emission-factors-for-us-industries-and-commodities).\n",
        "\n",
        "![GHG Emissions](https://edg.epa.gov/EPALogo.svg)\n",
        "\n",
        "**Source:**  \n",
        "[Supply Chain Greenhouse Gas Emission Factors](https://catalog.data.gov/dataset/supply-chain-greenhouse-gas-emission-factors-for-us-industries-and-commodities)\n",
        "\n",
        "  \n",
        "**Tools:** Python, Pandas, Scikit-learn, Matplotlib, Seaborn  \n"
      ]
    },
    {
      "cell_type": "markdown",
      "id": "d2cc9ed5",
      "metadata": {
        "id": "d2cc9ed5"
      },
      "source": [
        "## 📂 Dataset Overview\n",
        "\n",
        "This dataset contains supply chain emission factors associated with various U.S. industries and commodities.\n",
        "\n",
        "**Key Columns:**\n",
        "- `Code`: Industry classification code\n",
        "- `Industry_Name`: Name of the industry\n",
        "- `Commodity`: Item or commodity name\n",
        "- `GHG_Emissions_kgCO2e`: GHG emissions per unit (kg CO2 equivalent)\n",
        "- `Units`: Measurement units (e.g., [kg/2018 USD, purchaser price])\n",
        "\n"
      ]
    },
    {
      "cell_type": "markdown",
      "id": "409dc066",
      "metadata": {
        "id": "409dc066"
      },
      "source": [
        "## 🧹 Data Preprocessing\n",
        "\n",
        "Steps:\n",
        "- Handle missing values\n",
        "- Convert units where needed\n",
        "- Encode categorical features\n",
        "- Normalize/scale numeric columns\n",
        "\n",
        "## 🤖 Model Building & Evaluation\n",
        "\n",
        "We aim to predict `GHG_Emissions_kgCO2e` using regression models.\n",
        "\n",
        "Models to try:\n",
        "- Linear Regression\n",
        "- Random Forest\n",
        "\n",
        "**Evaluation Metrics:**\n",
        "- RMSE (Root Mean Squared Error)\n",
        "- MAE (Mean Absolute Error)\n",
        "- R² Score\n"
      ]
    },
    {
      "cell_type": "markdown",
      "id": "c2558455",
      "metadata": {
        "id": "c2558455"
      },
      "source": [
        "##### Steps:\n",
        "- Step 1: Import Required Libraries\n",
        "- Step 2: Load Dataset\n",
        "- Step 3: Data Preprocessing (EDA+Cleaning+Encoding)\n",
        "- Step 4: Training\n",
        "- Step 5: Prediction and Evaluation\n",
        "- Step 6: Hyperparameter Tuning\n",
        "- Step 7: Comapartive Study and Slecting the Best model\n"
      ]
    },
    {
      "cell_type": "markdown",
      "id": "118424af",
      "metadata": {
        "id": "118424af"
      },
      "source": [
        "# Step 1: Import Required Libraries"
      ]
    },
    {
      "cell_type": "code",
      "execution_count": null,
      "id": "a2e58624",
      "metadata": {
        "id": "a2e58624"
      },
      "outputs": [],
      "source": [
        "\n",
        "import pandas as pd\n",
        "import numpy as np\n",
        "import seaborn as sns\n",
        "import matplotlib.pyplot as plt\n",
        "\n",
        "from sklearn.model_selection import train_test_split, GridSearchCV\n",
        "from sklearn.preprocessing import StandardScaler\n",
        "from sklearn.ensemble import RandomForestRegressor\n",
        "from sklearn.metrics import mean_squared_error, r2_score\n",
        "import joblib\n"
      ]
    },
    {
      "cell_type": "markdown",
      "id": "c670b39a",
      "metadata": {
        "id": "c670b39a"
      },
      "source": [
        "# Step 2: Load Dataset"
      ]
    },
    {
      "cell_type": "code",
      "execution_count": null,
      "id": "3d7223e5",
      "metadata": {
        "id": "3d7223e5"
      },
      "outputs": [],
      "source": [
        "excel_file = '/content/GHGemissionData.xlsx'  # Replace with actual path\n",
        "years = range(2010, 2017)"
      ]
    },
    {
      "cell_type": "code",
      "execution_count": null,
      "id": "Y43COx5wUSfE",
      "metadata": {
        "id": "Y43COx5wUSfE"
      },
      "outputs": [],
      "source": []
    },
    {
      "cell_type": "code",
      "execution_count": null,
      "id": "aba2c82e",
      "metadata": {
        "id": "aba2c82e"
      },
      "outputs": [],
      "source": [
        "years[5]"
      ]
    },
    {
      "cell_type": "code",
      "execution_count": null,
      "id": "3739f73a",
      "metadata": {
        "id": "3739f73a"
      },
      "outputs": [],
      "source": [
        "df_1 = pd.read_excel(excel_file, sheet_name=f'2015_Detail_Commodity')\n",
        "df_1.head()"
      ]
    },
    {
      "cell_type": "code",
      "execution_count": null,
      "id": "b3da39b5",
      "metadata": {
        "id": "b3da39b5"
      },
      "outputs": [],
      "source": [
        "df_2 = pd.read_excel(excel_file, sheet_name=f'{years[0]}_Detail_Industry')\n",
        "df_2.head()"
      ]
    },
    {
      "cell_type": "code",
      "execution_count": null,
      "id": "464213c7",
      "metadata": {
        "id": "464213c7"
      },
      "outputs": [],
      "source": [
        "all_data = []\n",
        "\n",
        "for year in years:\n",
        "    try:\n",
        "        df_com = pd.read_excel(excel_file, sheet_name=f'{year}_Detail_Commodity')\n",
        "        df_ind = pd.read_excel(excel_file, sheet_name=f'{year}_Detail_Industry')\n",
        "\n",
        "        df_com['Source'] = 'Commodity'\n",
        "        df_ind['Source'] = 'Industry'\n",
        "        df_com['Year'] = df_ind['Year'] = year\n",
        "\n",
        "        df_com.columns = df_com.columns.str.strip()\n",
        "        df_ind.columns = df_ind.columns.str.strip()\n",
        "\n",
        "        df_com.rename(columns={\n",
        "            'Commodity Code': 'Code',\n",
        "            'Commodity Name': 'Name'\n",
        "        }, inplace=True)\n",
        "\n",
        "        df_ind.rename(columns={\n",
        "            'Industry Code': 'Code',\n",
        "            'Industry Name': 'Name'\n",
        "        }, inplace=True)\n",
        "\n",
        "        all_data.append(pd.concat([df_com, df_ind], ignore_index=True))\n",
        "\n",
        "    except Exception as e:\n",
        "        print(f\"Error processing year {year}: {e}\")"
      ]
    },
    {
      "cell_type": "code",
      "execution_count": null,
      "id": "4079554d-36f7-4163-b1af-f8fddcdc1c65",
      "metadata": {
        "id": "4079554d-36f7-4163-b1af-f8fddcdc1c65"
      },
      "outputs": [],
      "source": [
        "all_data[3]"
      ]
    },
    {
      "cell_type": "code",
      "execution_count": null,
      "id": "a4ddac28",
      "metadata": {
        "id": "a4ddac28"
      },
      "outputs": [],
      "source": [
        "len(all_data)"
      ]
    },
    {
      "cell_type": "code",
      "execution_count": null,
      "id": "d99bcf77",
      "metadata": {
        "id": "d99bcf77"
      },
      "outputs": [],
      "source": [
        "df = pd.concat(all_data, ignore_index=True)\n",
        "df.head()"
      ]
    },
    {
      "cell_type": "code",
      "execution_count": null,
      "id": "333b762c",
      "metadata": {
        "id": "333b762c"
      },
      "outputs": [],
      "source": [
        "len(df)"
      ]
    },
    {
      "cell_type": "markdown",
      "id": "12443c98",
      "metadata": {
        "id": "12443c98"
      },
      "source": [
        "# Step 3: Data Preprocessing"
      ]
    },
    {
      "cell_type": "code",
      "execution_count": null,
      "id": "0912c587",
      "metadata": {
        "id": "0912c587"
      },
      "outputs": [],
      "source": [
        "df.columns # Checking columns"
      ]
    },
    {
      "cell_type": "code",
      "execution_count": null,
      "id": "3e9957db",
      "metadata": {
        "id": "3e9957db"
      },
      "outputs": [],
      "source": [
        "df.isnull().sum()"
      ]
    },
    {
      "cell_type": "markdown",
      "id": "4eb85b0a",
      "metadata": {
        "id": "4eb85b0a"
      },
      "source": [
        "## Week 2 - 23 June 2025 - S4F"
      ]
    },
    {
      "cell_type": "code",
      "execution_count": null,
      "id": "7ced9ceb",
      "metadata": {
        "id": "7ced9ceb"
      },
      "outputs": [],
      "source": [
        "# As there is no data avaialble in Unnamed coulmn so we will drop the column\n",
        "df.drop(columns=['Unnamed: 7'],inplace=True)"
      ]
    },
    {
      "cell_type": "code",
      "execution_count": null,
      "id": "d4adb54b",
      "metadata": {
        "id": "d4adb54b"
      },
      "outputs": [],
      "source": [
        "df.columns"
      ]
    },
    {
      "cell_type": "code",
      "execution_count": null,
      "id": "c48cbbe3",
      "metadata": {
        "id": "c48cbbe3"
      },
      "outputs": [],
      "source": [
        "print(df.info())   # Checking data types and non-null counts"
      ]
    },
    {
      "cell_type": "code",
      "execution_count": null,
      "id": "bc6edbcd",
      "metadata": {
        "id": "bc6edbcd"
      },
      "outputs": [],
      "source": [
        "df.describe().T # Checking summary statistics"
      ]
    },
    {
      "cell_type": "code",
      "execution_count": null,
      "id": "f1b30be9",
      "metadata": {
        "id": "f1b30be9"
      },
      "outputs": [],
      "source": [
        "df.isnull().sum() # Checking for null values in each column"
      ]
    },
    {
      "cell_type": "code",
      "execution_count": null,
      "id": "ccf7fbe1",
      "metadata": {
        "id": "ccf7fbe1"
      },
      "outputs": [],
      "source": [
        "# Visualize distribution\n",
        "sns.histplot(df['Supply Chain Emission Factors with Margins'], bins=50, kde=True)\n",
        "plt.title('Target Variable Distribution')\n",
        "plt.show()"
      ]
    },
    {
      "cell_type": "code",
      "execution_count": null,
      "id": "d637be90",
      "metadata": {
        "id": "d637be90"
      },
      "outputs": [],
      "source": [
        "# Check categorical variables\n",
        "print(df['Substance'].value_counts())"
      ]
    },
    {
      "cell_type": "code",
      "execution_count": null,
      "id": "8ff1fc9d",
      "metadata": {
        "id": "8ff1fc9d"
      },
      "outputs": [],
      "source": [
        "print(df['Unit'].value_counts()) # Checking unique values in 'Unit' with count"
      ]
    },
    {
      "cell_type": "code",
      "execution_count": null,
      "id": "7bd9109b",
      "metadata": {
        "id": "7bd9109b"
      },
      "outputs": [],
      "source": [
        "print(df['Unit'].unique()) # Checking unique values in 'Unit'"
      ]
    },
    {
      "cell_type": "code",
      "execution_count": null,
      "id": "fc83fed6",
      "metadata": {
        "id": "fc83fed6"
      },
      "outputs": [],
      "source": [
        "print(df['Source'].value_counts()) # Checking unique values in 'Source' with count"
      ]
    },
    {
      "cell_type": "code",
      "execution_count": null,
      "id": "e93721db",
      "metadata": {
        "id": "e93721db"
      },
      "outputs": [],
      "source": [
        "df['Substance'].unique() # Checking unique values in 'Substance'"
      ]
    },
    {
      "cell_type": "code",
      "execution_count": null,
      "id": "4826a3bc",
      "metadata": {
        "id": "4826a3bc"
      },
      "outputs": [],
      "source": [
        "substance_map={'carbon dioxide':0, 'methane':1, 'nitrous oxide':2, 'other GHGs':3} # Mapping substances to integers"
      ]
    },
    {
      "cell_type": "code",
      "execution_count": null,
      "id": "9c7fc8a6",
      "metadata": {
        "id": "9c7fc8a6"
      },
      "outputs": [],
      "source": [
        "df['Substance']=df['Substance'].map(substance_map)"
      ]
    },
    {
      "cell_type": "code",
      "execution_count": null,
      "id": "88fdb187",
      "metadata": {
        "id": "88fdb187"
      },
      "outputs": [],
      "source": [
        "df['Substance'].unique() # Checking unique values in 'Substance'"
      ]
    },
    {
      "cell_type": "code",
      "execution_count": null,
      "id": "fc042f93",
      "metadata": {
        "id": "fc042f93"
      },
      "outputs": [],
      "source": [
        "print(df['Unit'].unique()) # Checking unique values in 'Unit'"
      ]
    },
    {
      "cell_type": "code",
      "execution_count": null,
      "id": "5f897a7c",
      "metadata": {
        "id": "5f897a7c"
      },
      "outputs": [],
      "source": [
        "unit_map={'kg/2018 USD, purchaser price':0, 'kg CO2e/2018 USD, purchaser price':1} # Mapping units to integers"
      ]
    },
    {
      "cell_type": "code",
      "execution_count": null,
      "id": "a454db80",
      "metadata": {
        "id": "a454db80"
      },
      "outputs": [],
      "source": [
        "df['Unit']=df['Unit'].map(unit_map)"
      ]
    },
    {
      "cell_type": "code",
      "execution_count": null,
      "id": "1243c8e1",
      "metadata": {
        "id": "1243c8e1"
      },
      "outputs": [],
      "source": [
        "print(df['Unit'].unique()) # Checking unique values in 'Unit'"
      ]
    },
    {
      "cell_type": "code",
      "execution_count": null,
      "id": "84076edc",
      "metadata": {
        "id": "84076edc"
      },
      "outputs": [],
      "source": [
        "print(df['Source'].unique()) # Checking unique values in 'Source'"
      ]
    },
    {
      "cell_type": "code",
      "execution_count": null,
      "id": "58c7d327",
      "metadata": {
        "id": "58c7d327"
      },
      "outputs": [],
      "source": [
        "source_map={'Commodity':0, 'Industry':1} # Mapping sources to integers"
      ]
    },
    {
      "cell_type": "code",
      "execution_count": null,
      "id": "f0b3e63e",
      "metadata": {
        "id": "f0b3e63e"
      },
      "outputs": [],
      "source": [
        "df['Source']=df['Source'].map(source_map)   # applying the mapping to 'Source' column"
      ]
    },
    {
      "cell_type": "code",
      "execution_count": null,
      "id": "cec5c804",
      "metadata": {
        "id": "cec5c804"
      },
      "outputs": [],
      "source": [
        "print(df['Source'].unique()) # Checking unique values in 'Source'"
      ]
    },
    {
      "cell_type": "code",
      "execution_count": null,
      "id": "e39744e3",
      "metadata": {
        "id": "e39744e3"
      },
      "outputs": [],
      "source": [
        "df.info() # Checking data types and non-null counts after mapping"
      ]
    },
    {
      "cell_type": "code",
      "execution_count": null,
      "id": "17a70cb5",
      "metadata": {
        "id": "17a70cb5"
      },
      "outputs": [],
      "source": [
        "df.Code.unique() # Checking unique values in 'Code' df['Code']"
      ]
    },
    {
      "cell_type": "code",
      "execution_count": null,
      "id": "aa8a6391",
      "metadata": {
        "id": "aa8a6391"
      },
      "outputs": [],
      "source": [
        "df.Name.unique() # Checking unique values in 'Name'"
      ]
    },
    {
      "cell_type": "code",
      "execution_count": null,
      "id": "1876f988",
      "metadata": {
        "id": "1876f988"
      },
      "outputs": [],
      "source": [
        "len(df.Name.unique()) # Checking number of unique values in 'Name'"
      ]
    },
    {
      "cell_type": "markdown",
      "id": "bdf2992b",
      "metadata": {
        "id": "bdf2992b"
      },
      "source": [
        "##### Top 10 Emmiting Industry"
      ]
    },
    {
      "cell_type": "code",
      "execution_count": null,
      "id": "e6d299cd-6903-4c2c-b073-a1ac5a304356",
      "metadata": {
        "id": "e6d299cd-6903-4c2c-b073-a1ac5a304356"
      },
      "outputs": [],
      "source": [
        "top_emitters = df[['Name', 'Supply Chain Emission Factors with Margins']].groupby('Name').mean().sort_values(\n",
        "    'Supply Chain Emission Factors with Margins', ascending=False).head(10)\n",
        "\n",
        "# Resetting index for better plotting\n",
        "top_emitters = top_emitters.reset_index()"
      ]
    },
    {
      "cell_type": "code",
      "execution_count": null,
      "id": "d63dd05f-6cc0-4291-bc22-afd854999e29",
      "metadata": {
        "id": "d63dd05f-6cc0-4291-bc22-afd854999e29"
      },
      "outputs": [],
      "source": [
        "top_emitters"
      ]
    },
    {
      "cell_type": "code",
      "execution_count": null,
      "id": "d42f181c-dc8d-45ce-9b16-65a0eb655c57",
      "metadata": {
        "id": "d42f181c-dc8d-45ce-9b16-65a0eb655c57"
      },
      "outputs": [],
      "source": [
        "# Plotting the top 10 emitting industries\n",
        "\n",
        "\n",
        "plt.figure(figsize=(10,6))\n",
        "# Example: Top emitting industries (already grouped)\n",
        "sns.barplot(\n",
        "    x='Supply Chain Emission Factors with Margins',\n",
        "    y='Name',\n",
        "    data=top_emitters,\n",
        "    hue='Name',\n",
        "    palette='viridis'  # Use 'Blues', 'viridis', etc., for other color maps\n",
        ")\n",
        "\n",
        "# Add ranking labels (1, 2, 3...) next to bars\n",
        "for i, (value, name) in enumerate(zip(top_emitters['Supply Chain Emission Factors with Margins'], top_emitters.index), start=1):\n",
        "    plt.text(value + 0.01, i - 1, f'#{i}', va='center', fontsize=11, fontweight='bold', color='black')\n",
        "\n",
        "plt.title('Top 10 Emitting Industries', fontsize=14, fontweight='bold') # Title of the plot\n",
        "plt.xlabel('Emission Factor (kg CO2e/unit)') # X-axis label\n",
        "plt.ylabel('Industry') # Y-axis label\n",
        "plt.grid(axis='x', linestyle='--', alpha=0.6) # Adding grid lines for better readability\n",
        "plt.tight_layout() # Adjust layout to prevent overlap\n",
        "\n",
        "plt.show()"
      ]
    },
    {
      "cell_type": "markdown",
      "id": "9d361b2c",
      "metadata": {
        "id": "9d361b2c"
      },
      "source": [
        "##### Drop non-numeric columns not needed,\n",
        "##### Alos drop Code and Year columns since there is no need of both of the columns"
      ]
    },
    {
      "cell_type": "code",
      "execution_count": null,
      "id": "35951b28",
      "metadata": {
        "id": "35951b28"
      },
      "outputs": [],
      "source": [
        "\n",
        "df.drop(columns=['Name','Code','Year'], inplace=True)"
      ]
    },
    {
      "cell_type": "code",
      "execution_count": null,
      "id": "d291b8cc",
      "metadata": {
        "id": "d291b8cc"
      },
      "outputs": [],
      "source": [
        "df.head(1)"
      ]
    },
    {
      "cell_type": "code",
      "execution_count": null,
      "id": "c971f716",
      "metadata": {
        "id": "c971f716"
      },
      "outputs": [],
      "source": [
        "df.shape"
      ]
    },
    {
      "cell_type": "markdown",
      "id": "1b2d26da",
      "metadata": {
        "id": "1b2d26da"
      },
      "source": [
        "##### Define features and target"
      ]
    },
    {
      "cell_type": "code",
      "execution_count": null,
      "id": "186d33df",
      "metadata": {
        "id": "186d33df"
      },
      "outputs": [],
      "source": [
        "df.columns"
      ]
    },
    {
      "cell_type": "code",
      "execution_count": null,
      "id": "b617536e",
      "metadata": {
        "id": "b617536e"
      },
      "outputs": [],
      "source": [
        "X = df.drop(columns=['Supply Chain Emission Factors with Margins']) # Feature set excluding the target variable\n",
        "y = df['Supply Chain Emission Factors with Margins'] # Target variable"
      ]
    },
    {
      "cell_type": "code",
      "execution_count": null,
      "id": "b4d5d358-18ed-4e1c-b205-4e3a42801fbe",
      "metadata": {
        "id": "b4d5d358-18ed-4e1c-b205-4e3a42801fbe"
      },
      "outputs": [],
      "source": [
        "X.head()"
      ]
    },
    {
      "cell_type": "code",
      "execution_count": null,
      "id": "582fb8e6-c355-49f2-86ca-4570666a01c3",
      "metadata": {
        "id": "582fb8e6-c355-49f2-86ca-4570666a01c3"
      },
      "outputs": [],
      "source": [
        "y.head()"
      ]
    },
    {
      "cell_type": "markdown",
      "id": "ccf683ba",
      "metadata": {
        "id": "ccf683ba"
      },
      "source": [
        "### Univariate Analysis"
      ]
    },
    {
      "cell_type": "code",
      "execution_count": null,
      "id": "c5d0741f",
      "metadata": {
        "id": "c5d0741f"
      },
      "outputs": [],
      "source": [
        "# Count plot for Substance\n",
        "plt.figure(figsize=(6, 3))\n",
        "sns.countplot(x=df[\"Substance\"])\n",
        "plt.title(\"Count Plot: Substance\")\n",
        "plt.xticks()\n",
        "plt.tight_layout()\n",
        "plt.show()"
      ]
    },
    {
      "cell_type": "code",
      "execution_count": null,
      "id": "c93c726a",
      "metadata": {
        "id": "c93c726a"
      },
      "outputs": [],
      "source": [
        "# Count plot for Unit\n",
        "plt.figure(figsize=(6, 3))\n",
        "sns.countplot(x=df[\"Unit\"])\n",
        "plt.title(\"Count Plot: Unit\")\n",
        "plt.tight_layout()\n",
        "plt.show()\n"
      ]
    },
    {
      "cell_type": "code",
      "execution_count": null,
      "id": "93ea7160",
      "metadata": {
        "id": "93ea7160"
      },
      "outputs": [],
      "source": [
        "# Count plot for Source\n",
        "plt.figure(figsize=(6, 4))\n",
        "sns.countplot(x=df[\"Source\"])\n",
        "plt.title(\"Count Plot: Source (Industry vs Commodity)\")\n",
        "plt.tight_layout()\n",
        "plt.show()"
      ]
    },
    {
      "cell_type": "code",
      "execution_count": null,
      "id": "d10c7c37",
      "metadata": {
        "id": "d10c7c37"
      },
      "outputs": [],
      "source": [
        "df.columns"
      ]
    },
    {
      "cell_type": "markdown",
      "id": "6b253a95",
      "metadata": {
        "id": "6b253a95"
      },
      "source": [
        "### Multivariate Anslysis"
      ]
    },
    {
      "cell_type": "markdown",
      "id": "50f3c914",
      "metadata": {
        "id": "50f3c914"
      },
      "source": [
        "##### Correlation heatmap"
      ]
    },
    {
      "cell_type": "code",
      "execution_count": null,
      "id": "12ee4cb4",
      "metadata": {
        "id": "12ee4cb4"
      },
      "outputs": [],
      "source": [
        "df.select_dtypes(include=np.number).corr() # Checking correlation between numerical features"
      ]
    },
    {
      "cell_type": "code",
      "execution_count": null,
      "id": "cca48055",
      "metadata": {
        "id": "cca48055"
      },
      "outputs": [],
      "source": [
        "df.info() # Checking data types and non-null counts after mapping"
      ]
    },
    {
      "cell_type": "code",
      "execution_count": null,
      "id": "a1fb07f5",
      "metadata": {
        "id": "a1fb07f5"
      },
      "outputs": [],
      "source": [
        "# Correlation matrix\n",
        "plt.figure(figsize=(12, 8))\n",
        "sns.heatmap(df.select_dtypes(include=np.number).corr(), annot=True, cmap=\"coolwarm\")\n",
        "plt.title(\"Correlation Heatmap\")\n",
        "plt.show()"
      ]
    },
    {
      "cell_type": "code",
      "execution_count": null,
      "id": "UBWfYzaBVemf",
      "metadata": {
        "id": "UBWfYzaBVemf"
      },
      "outputs": [],
      "source": [
        "# Step 4: Training\n",
        "# Split data into training and testing sets\n",
        "X = df.drop(columns=['Supply Chain Emission Factors with Margins', 'Code', 'Name']) # Feature set excluding the target variable and non-numeric columns\n",
        "y = df['Supply Chain Emission Factors with Margins'] # Target variable\n",
        "X_train, X_test, y_train, y_test = train_test_split(X, y, test_size=0.2, random_state=42)\n",
        "\n",
        "# Select only numerical columns for scaling\n",
        "X_train_numeric = X_train.select_dtypes(include=np.number)\n",
        "X_test_numeric = X_test.select_dtypes(include=np.number)\n",
        "\n",
        "# Scale numerical features (optional but recommended for many models)\n",
        "scaler = StandardScaler()\n",
        "X_train_scaled = scaler.fit_transform(X_train_numeric)\n",
        "X_test_scaled = scaler.transform(X_test_numeric)\n",
        "\n",
        "# Train a RandomForestRegressor model\n",
        "model = RandomForestRegressor(n_estimators=100, random_state=42, n_jobs=-1) # Using n_jobs=-1 to utilize all available CPU cores\n",
        "model.fit(X_train_scaled, y_train)\n",
        "\n",
        "# Step 5: Prediction and Evaluation\n",
        "y_pred = model.predict(X_test_scaled)\n",
        "\n",
        "# Evaluate the model\n",
        "mse = mean_squared_error(y_test, y_pred)\n",
        "rmse = np.sqrt(mse)\n",
        "r2 = r2_score(y_test, y_pred)\n",
        "\n",
        "print(f'Mean Squared Error: {mse}')\n",
        "print(f'Root Mean Squared Error: {rmse}')\n",
        "print(f'R-squared: {r2}')\n",
        "\n",
        "# Visualize predictions vs actual\n",
        "plt.figure(figsize=(10, 6))\n",
        "plt.scatter(y_test, y_pred, alpha=0.5)\n",
        "plt.xlabel(\"Actual Emission Factors\")\n",
        "plt.ylabel(\"Predicted Emission Factors\")\n",
        "plt.title(\"Actual vs. Predicted Emission Factors (Random Forest)\")\n",
        "plt.plot([y_test.min(), y_test.max()], [y_test.min(), y_test.max()], 'k--', lw=2) # Add a diagonal line\n",
        "plt.show()\n",
        "\n",
        "# Feature Importance\n",
        "feature_importances = pd.Series(model.feature_importances_, index=X_train_numeric.columns).sort_values(ascending=False)\n",
        "plt.figure(figsize=(10, 6))\n",
        "sns.barplot(x=feature_importances, y=feature_importances.index)\n",
        "plt.title(\"Feature Importances\")\n",
        "plt.xlabel(\"Importance Score\")\n",
        "plt.ylabel(\"Features\")\n",
        "plt.show()\n",
        "\n",
        "# Step 6: Hyperparameter Tuning (Example with GridSearchCV - can be time-consuming)\n",
        "param_grid = {\n",
        "    'n_estimators': [50, 100, 200],\n",
        "    'max_depth': [None, 10, 20, 30],\n",
        "    'min_samples_split': [2, 5, 10],\n",
        "    'min_samples_leaf': [1, 2, 4]\n",
        "}\n",
        "grid_search = GridSearchCV(RandomForestRegressor(random_state=42), param_grid, cv=5, scoring='neg_mean_squared_error', n_jobs=-1)\n",
        "grid_search.fit(X_train_scaled, y_train)\n",
        "print(f\"Best parameters: {grid_search.best_params_}\")\n",
        "best_model = grid_search.best_estimator_\n",
        "y_pred_tuned = best_model.predict(X_test_scaled)\n",
        "rmse_tuned = np.sqrt(mean_squared_error(y_test, y_pred_tuned))\n",
        "print(f\"RMSE with tuned model: {rmse_tuned}\")\n",
        "\n",
        "# Step 7: Comparative Study and Selecting the Best model\n",
        "# (This step would involve training other models like Linear Regression,\n",
        "# comparing their performance metrics, and selecting the best one based on\n",
        "# RMSE, R2, etc. Since we only trained one model here, we'll skip the comparison print statements.)\n",
        "\n",
        "# For now, the Random Forest model is our best model.\n",
        "\n",
        "# Save the trained model and scaler\n",
        "joblib.dump(model, 'random_forest_model.pkl')\n",
        "joblib.dump(scaler, 'scaler.pkl')\n",
        "print(\"Model and scaler saved.\")\n",
        "\n",
        "# Example of loading the model and making a prediction\n",
        "# loaded_model = joblib.load('random_forest_model.pkl')\n",
        "# loaded_scaler = joblib.load('scaler.pkl')\n",
        "# new_data = pd.DataFrame([[0, 0, 0, 0, 0]], columns=X.columns) # Example new data\n",
        "# new_data_scaled = loaded_scaler.transform(new_data)\n",
        "# prediction = loaded_model.predict(new_data_scaled)\n",
        "# print(f\"Prediction for new data: {prediction}\")"
      ]
    },
    {
      "cell_type": "code",
      "execution_count": null,
      "id": "M5TNXXbzuFGM",
      "metadata": {
        "id": "M5TNXXbzuFGM"
      },
      "outputs": [],
      "source": [
        "!pip install seaborn scikit-learn --quiet\n",
        "\n",
        "import pandas as pd\n",
        "import numpy as np\n",
        "import seaborn as sns\n",
        "import matplotlib.pyplot as plt\n",
        "from sklearn.ensemble import RandomForestRegressor\n",
        "from sklearn.model_selection import train_test_split\n",
        "from sklearn.metrics import mean_squared_error, r2_score\n"
      ]
    },
    {
      "cell_type": "code",
      "execution_count": null,
      "id": "tiqgZh3r0tak",
      "metadata": {
        "id": "tiqgZh3r0tak"
      },
      "outputs": [],
      "source": [
        "numeric_cols = df.select_dtypes(include='number').columns\n",
        "\n",
        "for col in numeric_cols:\n",
        "    plt.figure(figsize=(6, 2))\n",
        "    sns.boxplot(x=df[col])\n",
        "    plt.title(f\"Boxplot of {col}\")\n",
        "    plt.show()\n"
      ]
    },
    {
      "cell_type": "markdown",
      "id": "6fec4c8c",
      "metadata": {
        "id": "6fec4c8c"
      },
      "source": [
        "# Task\n",
        "Explain the error in the selected code. If possible, fix the error and incorporate the changes into the existing code. Otherwise, try to diagnose the error."
      ]
    },
    {
      "cell_type": "markdown",
      "id": "5531f17d",
      "metadata": {
        "id": "5531f17d"
      },
      "source": [
        "## Load and preprocess data\n",
        "\n",
        "### Subtask:\n",
        "Re-execute the cells that load the data from the Excel file and perform the initial preprocessing steps, including defining and populating the `df` DataFrame.\n"
      ]
    },
    {
      "cell_type": "markdown",
      "id": "d1a00bd7",
      "metadata": {
        "id": "d1a00bd7"
      },
      "source": [
        "**Reasoning**:\n",
        "The error indicates that the dataframe `df` was not defined. This is likely due to a kernel restart or clearing of outputs where the data loading and initial preprocessing steps were executed. I need to re-run the cells that create and populate the `df` dataframe up to the point where `df` is defined and the necessary columns for the subsequent boxplot are present. The last executed code cell before the error was cell `M5TNXXbzuFGM`, which re-imported necessary libraries, but the dataframe loading and cleaning were in previous cells. The boxplot code is in cell `tiqgZh3r0tak`, which directly follows the cell where `df` was dropped (`35951b28`). Thus, I need to re-execute the code cells from loading the excel data up to mapping the categorical features, but *before* dropping the 'Name', 'Code', and 'Year' columns, as these columns are needed for exploration and analysis later, and the boxplot code only uses numeric columns which are retained after the previous steps.\n",
        "\n"
      ]
    },
    {
      "cell_type": "code",
      "execution_count": null,
      "id": "5068eb26",
      "metadata": {
        "colab": {
          "base_uri": "https://localhost:8080/",
          "height": 729
        },
        "id": "5068eb26",
        "outputId": "cbc86944-f49c-4c0e-e1c6-0d35cfdf07cf"
      },
      "outputs": [
        {
          "data": {
            "application/vnd.google.colaboratory.intrinsic+json": {
              "summary": "{\n  \"name\": \"df\",\n  \"rows\": 22092,\n  \"fields\": [\n    {\n      \"column\": \"Code\",\n      \"properties\": {\n        \"dtype\": \"category\",\n        \"num_unique_values\": 395,\n        \"samples\": [\n          \"322120\",\n          \"711200\",\n          \"336991\"\n        ],\n        \"semantic_type\": \"\",\n        \"description\": \"\"\n      }\n    },\n    {\n      \"column\": \"Name\",\n      \"properties\": {\n        \"dtype\": \"category\",\n        \"num_unique_values\": 713,\n        \"samples\": [\n          \"Clay and ceramic products\",\n          \"Lessors of nonfinancial intangible assets\",\n          \"Corn products\"\n        ],\n        \"semantic_type\": \"\",\n        \"description\": \"\"\n      }\n    },\n    {\n      \"column\": \"Substance\",\n      \"properties\": {\n        \"dtype\": \"number\",\n        \"std\": 1,\n        \"min\": 0,\n        \"max\": 3,\n        \"num_unique_values\": 4,\n        \"samples\": [\n          1,\n          3,\n          0\n        ],\n        \"semantic_type\": \"\",\n        \"description\": \"\"\n      }\n    },\n    {\n      \"column\": \"Unit\",\n      \"properties\": {\n        \"dtype\": \"number\",\n        \"std\": 0,\n        \"min\": 0,\n        \"max\": 1,\n        \"num_unique_values\": 2,\n        \"samples\": [\n          1,\n          0\n        ],\n        \"semantic_type\": \"\",\n        \"description\": \"\"\n      }\n    },\n    {\n      \"column\": \"Supply Chain Emission Factors without Margins\",\n      \"properties\": {\n        \"dtype\": \"number\",\n        \"std\": 0.26703925843299803,\n        \"min\": 0.0,\n        \"max\": 7.228,\n        \"num_unique_values\": 982,\n        \"samples\": [\n          1.654,\n          0.519\n        ],\n        \"semantic_type\": \"\",\n        \"description\": \"\"\n      }\n    },\n    {\n      \"column\": \"Margins of Supply Chain Emission Factors\",\n      \"properties\": {\n        \"dtype\": \"number\",\n        \"std\": 0.07871952502785244,\n        \"min\": 0.0,\n        \"max\": 3.349,\n        \"num_unique_values\": 333,\n        \"samples\": [\n          0.099,\n          0.743\n        ],\n        \"semantic_type\": \"\",\n        \"description\": \"\"\n      }\n    },\n    {\n      \"column\": \"Supply Chain Emission Factors with Margins\",\n      \"properties\": {\n        \"dtype\": \"number\",\n        \"std\": 0.2889924989112152,\n        \"min\": 0.0,\n        \"max\": 7.29,\n        \"num_unique_values\": 1056,\n        \"samples\": [\n          0.461,\n          4.083\n        ],\n        \"semantic_type\": \"\",\n        \"description\": \"\"\n      }\n    },\n    {\n      \"column\": \"DQ ReliabilityScore of Factors without Margins\",\n      \"properties\": {\n        \"dtype\": \"number\",\n        \"std\": 0,\n        \"min\": 2,\n        \"max\": 4,\n        \"num_unique_values\": 3,\n        \"samples\": [\n          4,\n          3\n        ],\n        \"semantic_type\": \"\",\n        \"description\": \"\"\n      }\n    },\n    {\n      \"column\": \"DQ TemporalCorrelation of Factors without Margins\",\n      \"properties\": {\n        \"dtype\": \"number\",\n        \"std\": 0,\n        \"min\": 2,\n        \"max\": 3,\n        \"num_unique_values\": 2,\n        \"samples\": [\n          2,\n          3\n        ],\n        \"semantic_type\": \"\",\n        \"description\": \"\"\n      }\n    },\n    {\n      \"column\": \"DQ GeographicalCorrelation of Factors without Margins\",\n      \"properties\": {\n        \"dtype\": \"number\",\n        \"std\": 0,\n        \"min\": 1,\n        \"max\": 1,\n        \"num_unique_values\": 1,\n        \"samples\": [\n          1\n        ],\n        \"semantic_type\": \"\",\n        \"description\": \"\"\n      }\n    },\n    {\n      \"column\": \"DQ TechnologicalCorrelation of Factors without Margins\",\n      \"properties\": {\n        \"dtype\": \"number\",\n        \"std\": 1,\n        \"min\": 1,\n        \"max\": 5,\n        \"num_unique_values\": 5,\n        \"samples\": [\n          1\n        ],\n        \"semantic_type\": \"\",\n        \"description\": \"\"\n      }\n    },\n    {\n      \"column\": \"DQ DataCollection of Factors without Margins\",\n      \"properties\": {\n        \"dtype\": \"number\",\n        \"std\": 0,\n        \"min\": 1,\n        \"max\": 1,\n        \"num_unique_values\": 1,\n        \"samples\": [\n          1\n        ],\n        \"semantic_type\": \"\",\n        \"description\": \"\"\n      }\n    },\n    {\n      \"column\": \"Source\",\n      \"properties\": {\n        \"dtype\": \"number\",\n        \"std\": 0,\n        \"min\": 0,\n        \"max\": 1,\n        \"num_unique_values\": 2,\n        \"samples\": [\n          1\n        ],\n        \"semantic_type\": \"\",\n        \"description\": \"\"\n      }\n    },\n    {\n      \"column\": \"Year\",\n      \"properties\": {\n        \"dtype\": \"number\",\n        \"std\": 2,\n        \"min\": 2010,\n        \"max\": 2016,\n        \"num_unique_values\": 7,\n        \"samples\": [\n          2010\n        ],\n        \"semantic_type\": \"\",\n        \"description\": \"\"\n      }\n    }\n  ]\n}",
              "type": "dataframe",
              "variable_name": "df"
            },
            "text/html": [
              "\n",
              "  <div id=\"df-1fe9fd00-2451-478d-977f-3e28f4c27927\" class=\"colab-df-container\">\n",
              "    <div>\n",
              "<style scoped>\n",
              "    .dataframe tbody tr th:only-of-type {\n",
              "        vertical-align: middle;\n",
              "    }\n",
              "\n",
              "    .dataframe tbody tr th {\n",
              "        vertical-align: top;\n",
              "    }\n",
              "\n",
              "    .dataframe thead th {\n",
              "        text-align: right;\n",
              "    }\n",
              "</style>\n",
              "<table border=\"1\" class=\"dataframe\">\n",
              "  <thead>\n",
              "    <tr style=\"text-align: right;\">\n",
              "      <th></th>\n",
              "      <th>Code</th>\n",
              "      <th>Name</th>\n",
              "      <th>Substance</th>\n",
              "      <th>Unit</th>\n",
              "      <th>Supply Chain Emission Factors without Margins</th>\n",
              "      <th>Margins of Supply Chain Emission Factors</th>\n",
              "      <th>Supply Chain Emission Factors with Margins</th>\n",
              "      <th>DQ ReliabilityScore of Factors without Margins</th>\n",
              "      <th>DQ TemporalCorrelation of Factors without Margins</th>\n",
              "      <th>DQ GeographicalCorrelation of Factors without Margins</th>\n",
              "      <th>DQ TechnologicalCorrelation of Factors without Margins</th>\n",
              "      <th>DQ DataCollection of Factors without Margins</th>\n",
              "      <th>Source</th>\n",
              "      <th>Year</th>\n",
              "    </tr>\n",
              "  </thead>\n",
              "  <tbody>\n",
              "    <tr>\n",
              "      <th>0</th>\n",
              "      <td>1111A0</td>\n",
              "      <td>Fresh soybeans, canola, flaxseeds, and other o...</td>\n",
              "      <td>0</td>\n",
              "      <td>0</td>\n",
              "      <td>0.398</td>\n",
              "      <td>0.073</td>\n",
              "      <td>0.470</td>\n",
              "      <td>4</td>\n",
              "      <td>3</td>\n",
              "      <td>1</td>\n",
              "      <td>4</td>\n",
              "      <td>1</td>\n",
              "      <td>0</td>\n",
              "      <td>2010</td>\n",
              "    </tr>\n",
              "    <tr>\n",
              "      <th>1</th>\n",
              "      <td>1111A0</td>\n",
              "      <td>Fresh soybeans, canola, flaxseeds, and other o...</td>\n",
              "      <td>1</td>\n",
              "      <td>0</td>\n",
              "      <td>0.001</td>\n",
              "      <td>0.001</td>\n",
              "      <td>0.002</td>\n",
              "      <td>4</td>\n",
              "      <td>3</td>\n",
              "      <td>1</td>\n",
              "      <td>1</td>\n",
              "      <td>1</td>\n",
              "      <td>0</td>\n",
              "      <td>2010</td>\n",
              "    </tr>\n",
              "    <tr>\n",
              "      <th>2</th>\n",
              "      <td>1111A0</td>\n",
              "      <td>Fresh soybeans, canola, flaxseeds, and other o...</td>\n",
              "      <td>2</td>\n",
              "      <td>0</td>\n",
              "      <td>0.002</td>\n",
              "      <td>0.000</td>\n",
              "      <td>0.002</td>\n",
              "      <td>4</td>\n",
              "      <td>3</td>\n",
              "      <td>1</td>\n",
              "      <td>4</td>\n",
              "      <td>1</td>\n",
              "      <td>0</td>\n",
              "      <td>2010</td>\n",
              "    </tr>\n",
              "    <tr>\n",
              "      <th>3</th>\n",
              "      <td>1111A0</td>\n",
              "      <td>Fresh soybeans, canola, flaxseeds, and other o...</td>\n",
              "      <td>3</td>\n",
              "      <td>1</td>\n",
              "      <td>0.002</td>\n",
              "      <td>0.000</td>\n",
              "      <td>0.002</td>\n",
              "      <td>3</td>\n",
              "      <td>3</td>\n",
              "      <td>1</td>\n",
              "      <td>3</td>\n",
              "      <td>1</td>\n",
              "      <td>0</td>\n",
              "      <td>2010</td>\n",
              "    </tr>\n",
              "    <tr>\n",
              "      <th>4</th>\n",
              "      <td>1111B0</td>\n",
              "      <td>Fresh wheat, corn, rice, and other grains</td>\n",
              "      <td>0</td>\n",
              "      <td>0</td>\n",
              "      <td>0.659</td>\n",
              "      <td>0.081</td>\n",
              "      <td>0.740</td>\n",
              "      <td>4</td>\n",
              "      <td>3</td>\n",
              "      <td>1</td>\n",
              "      <td>4</td>\n",
              "      <td>1</td>\n",
              "      <td>0</td>\n",
              "      <td>2010</td>\n",
              "    </tr>\n",
              "  </tbody>\n",
              "</table>\n",
              "</div>\n",
              "    <div class=\"colab-df-buttons\">\n",
              "\n",
              "  <div class=\"colab-df-container\">\n",
              "    <button class=\"colab-df-convert\" onclick=\"convertToInteractive('df-1fe9fd00-2451-478d-977f-3e28f4c27927')\"\n",
              "            title=\"Convert this dataframe to an interactive table.\"\n",
              "            style=\"display:none;\">\n",
              "\n",
              "  <svg xmlns=\"http://www.w3.org/2000/svg\" height=\"24px\" viewBox=\"0 -960 960 960\">\n",
              "    <path d=\"M120-120v-720h720v720H120Zm60-500h600v-160H180v160Zm220 220h160v-160H400v160Zm0 220h160v-160H400v160ZM180-400h160v-160H180v160Zm440 0h160v-160H620v160ZM180-180h160v-160H180v160Zm440 0h160v-160H620v160Z\"/>\n",
              "  </svg>\n",
              "    </button>\n",
              "\n",
              "  <style>\n",
              "    .colab-df-container {\n",
              "      display:flex;\n",
              "      gap: 12px;\n",
              "    }\n",
              "\n",
              "    .colab-df-convert {\n",
              "      background-color: #E8F0FE;\n",
              "      border: none;\n",
              "      border-radius: 50%;\n",
              "      cursor: pointer;\n",
              "      display: none;\n",
              "      fill: #1967D2;\n",
              "      height: 32px;\n",
              "      padding: 0 0 0 0;\n",
              "      width: 32px;\n",
              "    }\n",
              "\n",
              "    .colab-df-convert:hover {\n",
              "      background-color: #E2EBFA;\n",
              "      box-shadow: 0px 1px 2px rgba(60, 64, 67, 0.3), 0px 1px 3px 1px rgba(60, 64, 67, 0.15);\n",
              "      fill: #174EA6;\n",
              "    }\n",
              "\n",
              "    .colab-df-buttons div {\n",
              "      margin-bottom: 4px;\n",
              "    }\n",
              "\n",
              "    [theme=dark] .colab-df-convert {\n",
              "      background-color: #3B4455;\n",
              "      fill: #D2E3FC;\n",
              "    }\n",
              "\n",
              "    [theme=dark] .colab-df-convert:hover {\n",
              "      background-color: #434B5C;\n",
              "      box-shadow: 0px 1px 3px 1px rgba(0, 0, 0, 0.15);\n",
              "      filter: drop-shadow(0px 1px 2px rgba(0, 0, 0, 0.3));\n",
              "      fill: #FFFFFF;\n",
              "    }\n",
              "  </style>\n",
              "\n",
              "    <script>\n",
              "      const buttonEl =\n",
              "        document.querySelector('#df-1fe9fd00-2451-478d-977f-3e28f4c27927 button.colab-df-convert');\n",
              "      buttonEl.style.display =\n",
              "        google.colab.kernel.accessAllowed ? 'block' : 'none';\n",
              "\n",
              "      async function convertToInteractive(key) {\n",
              "        const element = document.querySelector('#df-1fe9fd00-2451-478d-977f-3e28f4c27927');\n",
              "        const dataTable =\n",
              "          await google.colab.kernel.invokeFunction('convertToInteractive',\n",
              "                                                    [key], {});\n",
              "        if (!dataTable) return;\n",
              "\n",
              "        const docLinkHtml = 'Like what you see? Visit the ' +\n",
              "          '<a target=\"_blank\" href=https://colab.research.google.com/notebooks/data_table.ipynb>data table notebook</a>'\n",
              "          + ' to learn more about interactive tables.';\n",
              "        element.innerHTML = '';\n",
              "        dataTable['output_type'] = 'display_data';\n",
              "        await google.colab.output.renderOutput(dataTable, element);\n",
              "        const docLink = document.createElement('div');\n",
              "        docLink.innerHTML = docLinkHtml;\n",
              "        element.appendChild(docLink);\n",
              "      }\n",
              "    </script>\n",
              "  </div>\n",
              "\n",
              "\n",
              "    <div id=\"df-62444ce9-7e11-4944-a9ce-c8e2ed74f368\">\n",
              "      <button class=\"colab-df-quickchart\" onclick=\"quickchart('df-62444ce9-7e11-4944-a9ce-c8e2ed74f368')\"\n",
              "                title=\"Suggest charts\"\n",
              "                style=\"display:none;\">\n",
              "\n",
              "<svg xmlns=\"http://www.w3.org/2000/svg\" height=\"24px\"viewBox=\"0 0 24 24\"\n",
              "     width=\"24px\">\n",
              "    <g>\n",
              "        <path d=\"M19 3H5c-1.1 0-2 .9-2 2v14c0 1.1.9 2 2 2h14c1.1 0 2-.9 2-2V5c0-1.1-.9-2-2-2zM9 17H7v-7h2v7zm4 0h-2V7h2v10zm4 0h-2v-4h2v4z\"/>\n",
              "    </g>\n",
              "</svg>\n",
              "      </button>\n",
              "\n",
              "<style>\n",
              "  .colab-df-quickchart {\n",
              "      --bg-color: #E8F0FE;\n",
              "      --fill-color: #1967D2;\n",
              "      --hover-bg-color: #E2EBFA;\n",
              "      --hover-fill-color: #174EA6;\n",
              "      --disabled-fill-color: #AAA;\n",
              "      --disabled-bg-color: #DDD;\n",
              "  }\n",
              "\n",
              "  [theme=dark] .colab-df-quickchart {\n",
              "      --bg-color: #3B4455;\n",
              "      --fill-color: #D2E3FC;\n",
              "      --hover-bg-color: #434B5C;\n",
              "      --hover-fill-color: #FFFFFF;\n",
              "      --disabled-bg-color: #3B4455;\n",
              "      --disabled-fill-color: #666;\n",
              "  }\n",
              "\n",
              "  .colab-df-quickchart {\n",
              "    background-color: var(--bg-color);\n",
              "    border: none;\n",
              "    border-radius: 50%;\n",
              "    cursor: pointer;\n",
              "    display: none;\n",
              "    fill: var(--fill-color);\n",
              "    height: 32px;\n",
              "    padding: 0;\n",
              "    width: 32px;\n",
              "  }\n",
              "\n",
              "  .colab-df-quickchart:hover {\n",
              "    background-color: var(--hover-bg-color);\n",
              "    box-shadow: 0 1px 2px rgba(60, 64, 67, 0.3), 0 1px 3px 1px rgba(60, 64, 67, 0.15);\n",
              "    fill: var(--button-hover-fill-color);\n",
              "  }\n",
              "\n",
              "  .colab-df-quickchart-complete:disabled,\n",
              "  .colab-df-quickchart-complete:disabled:hover {\n",
              "    background-color: var(--disabled-bg-color);\n",
              "    fill: var(--disabled-fill-color);\n",
              "    box-shadow: none;\n",
              "  }\n",
              "\n",
              "  .colab-df-spinner {\n",
              "    border: 2px solid var(--fill-color);\n",
              "    border-color: transparent;\n",
              "    border-bottom-color: var(--fill-color);\n",
              "    animation:\n",
              "      spin 1s steps(1) infinite;\n",
              "  }\n",
              "\n",
              "  @keyframes spin {\n",
              "    0% {\n",
              "      border-color: transparent;\n",
              "      border-bottom-color: var(--fill-color);\n",
              "      border-left-color: var(--fill-color);\n",
              "    }\n",
              "    20% {\n",
              "      border-color: transparent;\n",
              "      border-left-color: var(--fill-color);\n",
              "      border-top-color: var(--fill-color);\n",
              "    }\n",
              "    30% {\n",
              "      border-color: transparent;\n",
              "      border-left-color: var(--fill-color);\n",
              "      border-top-color: var(--fill-color);\n",
              "      border-right-color: var(--fill-color);\n",
              "    }\n",
              "    40% {\n",
              "      border-color: transparent;\n",
              "      border-right-color: var(--fill-color);\n",
              "      border-top-color: var(--fill-color);\n",
              "    }\n",
              "    60% {\n",
              "      border-color: transparent;\n",
              "      border-right-color: var(--fill-color);\n",
              "    }\n",
              "    80% {\n",
              "      border-color: transparent;\n",
              "      border-right-color: var(--fill-color);\n",
              "      border-bottom-color: var(--fill-color);\n",
              "    }\n",
              "    90% {\n",
              "      border-color: transparent;\n",
              "      border-bottom-color: var(--fill-color);\n",
              "    }\n",
              "  }\n",
              "</style>\n",
              "\n",
              "      <script>\n",
              "        async function quickchart(key) {\n",
              "          const quickchartButtonEl =\n",
              "            document.querySelector('#' + key + ' button');\n",
              "          quickchartButtonEl.disabled = true;  // To prevent multiple clicks.\n",
              "          quickchartButtonEl.classList.add('colab-df-spinner');\n",
              "          try {\n",
              "            const charts = await google.colab.kernel.invokeFunction(\n",
              "                'suggestCharts', [key], {});\n",
              "          } catch (error) {\n",
              "            console.error('Error during call to suggestCharts:', error);\n",
              "          }\n",
              "          quickchartButtonEl.classList.remove('colab-df-spinner');\n",
              "          quickchartButtonEl.classList.add('colab-df-quickchart-complete');\n",
              "        }\n",
              "        (() => {\n",
              "          let quickchartButtonEl =\n",
              "            document.querySelector('#df-62444ce9-7e11-4944-a9ce-c8e2ed74f368 button');\n",
              "          quickchartButtonEl.style.display =\n",
              "            google.colab.kernel.accessAllowed ? 'block' : 'none';\n",
              "        })();\n",
              "      </script>\n",
              "    </div>\n",
              "\n",
              "    </div>\n",
              "  </div>\n"
            ],
            "text/plain": [
              "     Code                                               Name  Substance  Unit  \\\n",
              "0  1111A0  Fresh soybeans, canola, flaxseeds, and other o...          0     0   \n",
              "1  1111A0  Fresh soybeans, canola, flaxseeds, and other o...          1     0   \n",
              "2  1111A0  Fresh soybeans, canola, flaxseeds, and other o...          2     0   \n",
              "3  1111A0  Fresh soybeans, canola, flaxseeds, and other o...          3     1   \n",
              "4  1111B0          Fresh wheat, corn, rice, and other grains          0     0   \n",
              "\n",
              "   Supply Chain Emission Factors without Margins  \\\n",
              "0                                          0.398   \n",
              "1                                          0.001   \n",
              "2                                          0.002   \n",
              "3                                          0.002   \n",
              "4                                          0.659   \n",
              "\n",
              "   Margins of Supply Chain Emission Factors  \\\n",
              "0                                     0.073   \n",
              "1                                     0.001   \n",
              "2                                     0.000   \n",
              "3                                     0.000   \n",
              "4                                     0.081   \n",
              "\n",
              "   Supply Chain Emission Factors with Margins  \\\n",
              "0                                       0.470   \n",
              "1                                       0.002   \n",
              "2                                       0.002   \n",
              "3                                       0.002   \n",
              "4                                       0.740   \n",
              "\n",
              "   DQ ReliabilityScore of Factors without Margins  \\\n",
              "0                                               4   \n",
              "1                                               4   \n",
              "2                                               4   \n",
              "3                                               3   \n",
              "4                                               4   \n",
              "\n",
              "   DQ TemporalCorrelation of Factors without Margins  \\\n",
              "0                                                  3   \n",
              "1                                                  3   \n",
              "2                                                  3   \n",
              "3                                                  3   \n",
              "4                                                  3   \n",
              "\n",
              "   DQ GeographicalCorrelation of Factors without Margins  \\\n",
              "0                                                  1       \n",
              "1                                                  1       \n",
              "2                                                  1       \n",
              "3                                                  1       \n",
              "4                                                  1       \n",
              "\n",
              "   DQ TechnologicalCorrelation of Factors without Margins  \\\n",
              "0                                                  4        \n",
              "1                                                  1        \n",
              "2                                                  4        \n",
              "3                                                  3        \n",
              "4                                                  4        \n",
              "\n",
              "   DQ DataCollection of Factors without Margins  Source  Year  \n",
              "0                                             1       0  2010  \n",
              "1                                             1       0  2010  \n",
              "2                                             1       0  2010  \n",
              "3                                             1       0  2010  \n",
              "4                                             1       0  2010  "
            ]
          },
          "execution_count": 20,
          "metadata": {},
          "output_type": "execute_result"
        }
      ],
      "source": [
        "excel_file = '/content/GHGemissionData.xlsx'  # Replace with actual path\n",
        "years = range(2010, 2017)\n",
        "\n",
        "all_data = []\n",
        "\n",
        "for year in years:\n",
        "    try:\n",
        "        df_com = pd.read_excel(excel_file, sheet_name=f'{year}_Detail_Commodity')\n",
        "        df_ind = pd.read_excel(excel_file, sheet_name=f'{year}_Detail_Industry')\n",
        "\n",
        "        df_com['Source'] = 'Commodity'\n",
        "        df_ind['Source'] = 'Industry'\n",
        "        df_com['Year'] = df_ind['Year'] = year\n",
        "\n",
        "        df_com.columns = df_com.columns.str.strip()\n",
        "        df_ind.columns = df_ind.columns.str.strip()\n",
        "\n",
        "        df_com.rename(columns={\n",
        "            'Commodity Code': 'Code',\n",
        "            'Commodity Name': 'Name'\n",
        "        }, inplace=True)\n",
        "\n",
        "        df_ind.rename(columns={\n",
        "            'Industry Code': 'Code',\n",
        "            'Industry Name': 'Name'\n",
        "        }, inplace=True)\n",
        "\n",
        "        all_data.append(pd.concat([df_com, df_ind], ignore_index=True))\n",
        "\n",
        "    except Exception as e:\n",
        "        print(f\"Error processing year {year}: {e}\")\n",
        "\n",
        "df = pd.concat(all_data, ignore_index=True)\n",
        "\n",
        "# Dropping the 'Unnamed: 7' column\n",
        "df.drop(columns=['Unnamed: 7'], inplace=True)\n",
        "\n",
        "# Mapping categorical variables\n",
        "substance_map = {'carbon dioxide': 0, 'methane': 1, 'nitrous oxide': 2, 'other GHGs': 3}\n",
        "df['Substance'] = df['Substance'].map(substance_map)\n",
        "\n",
        "unit_map = {'kg/2018 USD, purchaser price': 0, 'kg CO2e/2018 USD, purchaser price': 1}\n",
        "df['Unit'] = df['Unit'].map(unit_map)\n",
        "\n",
        "source_map = {'Commodity': 0, 'Industry': 1}\n",
        "df['Source'] = df['Source'].map(source_map)\n",
        "\n",
        "df.head()"
      ]
    },
    {
      "cell_type": "markdown",
      "id": "53dd73fd",
      "metadata": {
        "id": "53dd73fd"
      },
      "source": [
        "**Reasoning**:\n",
        "The traceback indicates a `FileNotFoundError` because the specified Excel file path `/content/GHGemissionData.xlsx` does not exist, leading to an empty `all_data` list and subsequently a `ValueError` when trying to concatenate an empty list. I need to correct the file path to the actual location of the Excel file to successfully load the data. Based on the file names used in the previous execution, the file was likely uploaded to the `/content/` directory, but the name might be slightly different or there was a temporary issue. Assuming the file is still in `/content/` and the name is correct, I will retry loading the data with the same code block. If the error persists, it indicates a problem with the file path or the file itself.\n",
        "\n"
      ]
    },
    {
      "cell_type": "code",
      "execution_count": null,
      "id": "gqrIgLp-0_W7",
      "metadata": {
        "id": "gqrIgLp-0_W7"
      },
      "outputs": [],
      "source": [
        "excel_file = '/content/GHGemissionData.xlsx'  # Replace with actual path\n",
        "years = range(2010, 2017)\n",
        "\n",
        "all_data = []\n",
        "\n",
        "for year in years:\n",
        "    try:\n",
        "        df_com = pd.read_excel(excel_file, sheet_name=f'{year}_Detail_Commodity')\n",
        "        df_ind = pd.read_excel(excel_file, sheet_name=f'{year}_Detail_Industry')\n",
        "\n",
        "        df_com['Source'] = 'Commodity'\n",
        "        df_ind['Source'] = 'Industry'\n",
        "        df_com['Year'] = df_ind['Year'] = year\n",
        "\n",
        "        df_com.columns = df_com.columns.str.strip()\n",
        "        df_ind.columns = df_ind.columns.str.strip()\n",
        "\n",
        "        df_com.rename(columns={\n",
        "            'Commodity Code': 'Code',\n",
        "            'Commodity Name': 'Name'\n",
        "        }, inplace=True)\n",
        "\n",
        "        df_ind.rename(columns={\n",
        "            'Industry Code': 'Code',\n",
        "            'Industry Name': 'Name'\n",
        "        }, inplace=True)\n",
        "\n",
        "        all_data.append(pd.concat([df_com, df_ind], ignore_index=True))\n",
        "\n",
        "    except Exception as e:\n",
        "        print(f\"Error processing year {year}: {e}\")\n",
        "\n",
        "df = pd.concat(all_data, ignore_index=True)\n",
        "\n",
        "# Dropping the 'Unnamed: 7' column\n",
        "df.drop(columns=['Unnamed: 7'], inplace=True)\n",
        "\n",
        "# Mapping categorical variables\n",
        "substance_map = {'carbon dioxide': 0, 'methane': 1, 'nitrous oxide': 2, 'other GHGs': 3}\n",
        "df['Substance'] = df['Substance'].map(substance_map)\n",
        "\n",
        "unit_map = {'kg/2018 USD, purchaser price': 0, 'kg CO2e/2018 USD, purchaser price': 1}\n",
        "df['Unit'] = df['Unit'].map(unit_map)\n",
        "\n",
        "source_map = {'Commodity': 0, 'Industry': 1}\n",
        "df['Source'] = df['Source'].map(source_map)\n",
        "\n",
        "df.head()"
      ]
    },
    {
      "cell_type": "markdown",
      "id": "f5f6d7db",
      "metadata": {
        "id": "f5f6d7db"
      },
      "source": [
        "**Reasoning**:\n",
        "The `FileNotFoundError` persists, indicating that the Excel file is not located at the specified path `/content/GHGemissionData.xlsx`. I need to find the correct path of the file. I will try listing the files in the `/content/` directory to see if the file is present with a slightly different name or in a subdirectory.\n",
        "\n"
      ]
    },
    {
      "cell_type": "code",
      "execution_count": null,
      "id": "Q4lN3Akp1A6u",
      "metadata": {
        "id": "Q4lN3Akp1A6u"
      },
      "outputs": [],
      "source": [
        "import os\n",
        "print(os.listdir('/content/'))"
      ]
    },
    {
      "cell_type": "markdown",
      "id": "e67fe757",
      "metadata": {
        "id": "e67fe757"
      },
      "source": [
        "## Load and preprocess data\n",
        "\n",
        "### Subtask:\n",
        "Re-execute the cells that load the data from the Excel file and perform the initial preprocessing steps, including defining and populating the `df` DataFrame.\n"
      ]
    },
    {
      "cell_type": "markdown",
      "id": "2f053e73",
      "metadata": {
        "id": "2f053e73"
      },
      "source": [
        "**Reasoning**:\n",
        "The previous attempt to load the data failed because the file was not found. The code cells for loading and processing the data need to be re-executed in the correct order to create the `df` DataFrame. This includes defining the file path, the years, iterating through the sheets, concatenating the data, dropping the unnecessary column, and mapping the categorical columns.\n",
        "\n"
      ]
    },
    {
      "cell_type": "code",
      "execution_count": null,
      "id": "jCsUYbci2YGf",
      "metadata": {
        "id": "jCsUYbci2YGf"
      },
      "outputs": [],
      "source": []
    },
    {
      "cell_type": "markdown",
      "id": "e7fa4fea",
      "metadata": {
        "id": "e7fa4fea"
      },
      "source": [
        "**Reasoning**:\n",
        "The error message indicates that the Excel file was not found, resulting in an empty `all_data` list and the subsequent `ValueError` during concatenation. I need to check if the file exists in the current environment.\n",
        "\n"
      ]
    },
    {
      "cell_type": "code",
      "execution_count": null,
      "id": "UcZao6qM1F1j",
      "metadata": {
        "id": "UcZao6qM1F1j"
      },
      "outputs": [],
      "source": [
        "import os\n",
        "print(os.listdir('/content/'))"
      ]
    },
    {
      "cell_type": "code",
      "execution_count": null,
      "id": "66c1d7b1",
      "metadata": {
        "colab": {
          "background_save": true
        },
        "id": "66c1d7b1",
        "outputId": "8113c215-7da0-4f3d-ce22-af8b241f69f8"
      },
      "outputs": [
        {
          "data": {
            "application/vnd.google.colaboratory.intrinsic+json": {
              "summary": "{\n  \"name\": \"df\",\n  \"rows\": 22092,\n  \"fields\": [\n    {\n      \"column\": \"Code\",\n      \"properties\": {\n        \"dtype\": \"category\",\n        \"num_unique_values\": 395,\n        \"samples\": [\n          \"322120\",\n          \"711200\",\n          \"336991\"\n        ],\n        \"semantic_type\": \"\",\n        \"description\": \"\"\n      }\n    },\n    {\n      \"column\": \"Name\",\n      \"properties\": {\n        \"dtype\": \"category\",\n        \"num_unique_values\": 713,\n        \"samples\": [\n          \"Clay and ceramic products\",\n          \"Lessors of nonfinancial intangible assets\",\n          \"Corn products\"\n        ],\n        \"semantic_type\": \"\",\n        \"description\": \"\"\n      }\n    },\n    {\n      \"column\": \"Substance\",\n      \"properties\": {\n        \"dtype\": \"number\",\n        \"std\": 1,\n        \"min\": 0,\n        \"max\": 3,\n        \"num_unique_values\": 4,\n        \"samples\": [\n          1,\n          3,\n          0\n        ],\n        \"semantic_type\": \"\",\n        \"description\": \"\"\n      }\n    },\n    {\n      \"column\": \"Unit\",\n      \"properties\": {\n        \"dtype\": \"number\",\n        \"std\": 0,\n        \"min\": 0,\n        \"max\": 1,\n        \"num_unique_values\": 2,\n        \"samples\": [\n          1,\n          0\n        ],\n        \"semantic_type\": \"\",\n        \"description\": \"\"\n      }\n    },\n    {\n      \"column\": \"Supply Chain Emission Factors without Margins\",\n      \"properties\": {\n        \"dtype\": \"number\",\n        \"std\": 0.26703925843299803,\n        \"min\": 0.0,\n        \"max\": 7.228,\n        \"num_unique_values\": 982,\n        \"samples\": [\n          1.654,\n          0.519\n        ],\n        \"semantic_type\": \"\",\n        \"description\": \"\"\n      }\n    },\n    {\n      \"column\": \"Margins of Supply Chain Emission Factors\",\n      \"properties\": {\n        \"dtype\": \"number\",\n        \"std\": 0.07871952502785244,\n        \"min\": 0.0,\n        \"max\": 3.349,\n        \"num_unique_values\": 333,\n        \"samples\": [\n          0.099,\n          0.743\n        ],\n        \"semantic_type\": \"\",\n        \"description\": \"\"\n      }\n    },\n    {\n      \"column\": \"Supply Chain Emission Factors with Margins\",\n      \"properties\": {\n        \"dtype\": \"number\",\n        \"std\": 0.2889924989112152,\n        \"min\": 0.0,\n        \"max\": 7.29,\n        \"num_unique_values\": 1056,\n        \"samples\": [\n          0.461,\n          4.083\n        ],\n        \"semantic_type\": \"\",\n        \"description\": \"\"\n      }\n    },\n    {\n      \"column\": \"DQ ReliabilityScore of Factors without Margins\",\n      \"properties\": {\n        \"dtype\": \"number\",\n        \"std\": 0,\n        \"min\": 2,\n        \"max\": 4,\n        \"num_unique_values\": 3,\n        \"samples\": [\n          4,\n          3\n        ],\n        \"semantic_type\": \"\",\n        \"description\": \"\"\n      }\n    },\n    {\n      \"column\": \"DQ TemporalCorrelation of Factors without Margins\",\n      \"properties\": {\n        \"dtype\": \"number\",\n        \"std\": 0,\n        \"min\": 2,\n        \"max\": 3,\n        \"num_unique_values\": 2,\n        \"samples\": [\n          2,\n          3\n        ],\n        \"semantic_type\": \"\",\n        \"description\": \"\"\n      }\n    },\n    {\n      \"column\": \"DQ GeographicalCorrelation of Factors without Margins\",\n      \"properties\": {\n        \"dtype\": \"number\",\n        \"std\": 0,\n        \"min\": 1,\n        \"max\": 1,\n        \"num_unique_values\": 1,\n        \"samples\": [\n          1\n        ],\n        \"semantic_type\": \"\",\n        \"description\": \"\"\n      }\n    },\n    {\n      \"column\": \"DQ TechnologicalCorrelation of Factors without Margins\",\n      \"properties\": {\n        \"dtype\": \"number\",\n        \"std\": 1,\n        \"min\": 1,\n        \"max\": 5,\n        \"num_unique_values\": 5,\n        \"samples\": [\n          1\n        ],\n        \"semantic_type\": \"\",\n        \"description\": \"\"\n      }\n    },\n    {\n      \"column\": \"DQ DataCollection of Factors without Margins\",\n      \"properties\": {\n        \"dtype\": \"number\",\n        \"std\": 0,\n        \"min\": 1,\n        \"max\": 1,\n        \"num_unique_values\": 1,\n        \"samples\": [\n          1\n        ],\n        \"semantic_type\": \"\",\n        \"description\": \"\"\n      }\n    },\n    {\n      \"column\": \"Source\",\n      \"properties\": {\n        \"dtype\": \"number\",\n        \"std\": 0,\n        \"min\": 0,\n        \"max\": 1,\n        \"num_unique_values\": 2,\n        \"samples\": [\n          1\n        ],\n        \"semantic_type\": \"\",\n        \"description\": \"\"\n      }\n    },\n    {\n      \"column\": \"Year\",\n      \"properties\": {\n        \"dtype\": \"number\",\n        \"std\": 2,\n        \"min\": 2010,\n        \"max\": 2016,\n        \"num_unique_values\": 7,\n        \"samples\": [\n          2010\n        ],\n        \"semantic_type\": \"\",\n        \"description\": \"\"\n      }\n    }\n  ]\n}",
              "type": "dataframe",
              "variable_name": "df"
            },
            "text/html": [
              "\n",
              "  <div id=\"df-03453640-ecfb-4950-b657-1e8b0fe94b7d\" class=\"colab-df-container\">\n",
              "    <div>\n",
              "<style scoped>\n",
              "    .dataframe tbody tr th:only-of-type {\n",
              "        vertical-align: middle;\n",
              "    }\n",
              "\n",
              "    .dataframe tbody tr th {\n",
              "        vertical-align: top;\n",
              "    }\n",
              "\n",
              "    .dataframe thead th {\n",
              "        text-align: right;\n",
              "    }\n",
              "</style>\n",
              "<table border=\"1\" class=\"dataframe\">\n",
              "  <thead>\n",
              "    <tr style=\"text-align: right;\">\n",
              "      <th></th>\n",
              "      <th>Code</th>\n",
              "      <th>Name</th>\n",
              "      <th>Substance</th>\n",
              "      <th>Unit</th>\n",
              "      <th>Supply Chain Emission Factors without Margins</th>\n",
              "      <th>Margins of Supply Chain Emission Factors</th>\n",
              "      <th>Supply Chain Emission Factors with Margins</th>\n",
              "      <th>DQ ReliabilityScore of Factors without Margins</th>\n",
              "      <th>DQ TemporalCorrelation of Factors without Margins</th>\n",
              "      <th>DQ GeographicalCorrelation of Factors without Margins</th>\n",
              "      <th>DQ TechnologicalCorrelation of Factors without Margins</th>\n",
              "      <th>DQ DataCollection of Factors without Margins</th>\n",
              "      <th>Source</th>\n",
              "      <th>Year</th>\n",
              "    </tr>\n",
              "  </thead>\n",
              "  <tbody>\n",
              "    <tr>\n",
              "      <th>0</th>\n",
              "      <td>1111A0</td>\n",
              "      <td>Fresh soybeans, canola, flaxseeds, and other o...</td>\n",
              "      <td>0</td>\n",
              "      <td>0</td>\n",
              "      <td>0.398</td>\n",
              "      <td>0.073</td>\n",
              "      <td>0.470</td>\n",
              "      <td>4</td>\n",
              "      <td>3</td>\n",
              "      <td>1</td>\n",
              "      <td>4</td>\n",
              "      <td>1</td>\n",
              "      <td>0</td>\n",
              "      <td>2010</td>\n",
              "    </tr>\n",
              "    <tr>\n",
              "      <th>1</th>\n",
              "      <td>1111A0</td>\n",
              "      <td>Fresh soybeans, canola, flaxseeds, and other o...</td>\n",
              "      <td>1</td>\n",
              "      <td>0</td>\n",
              "      <td>0.001</td>\n",
              "      <td>0.001</td>\n",
              "      <td>0.002</td>\n",
              "      <td>4</td>\n",
              "      <td>3</td>\n",
              "      <td>1</td>\n",
              "      <td>1</td>\n",
              "      <td>1</td>\n",
              "      <td>0</td>\n",
              "      <td>2010</td>\n",
              "    </tr>\n",
              "    <tr>\n",
              "      <th>2</th>\n",
              "      <td>1111A0</td>\n",
              "      <td>Fresh soybeans, canola, flaxseeds, and other o...</td>\n",
              "      <td>2</td>\n",
              "      <td>0</td>\n",
              "      <td>0.002</td>\n",
              "      <td>0.000</td>\n",
              "      <td>0.002</td>\n",
              "      <td>4</td>\n",
              "      <td>3</td>\n",
              "      <td>1</td>\n",
              "      <td>4</td>\n",
              "      <td>1</td>\n",
              "      <td>0</td>\n",
              "      <td>2010</td>\n",
              "    </tr>\n",
              "    <tr>\n",
              "      <th>3</th>\n",
              "      <td>1111A0</td>\n",
              "      <td>Fresh soybeans, canola, flaxseeds, and other o...</td>\n",
              "      <td>3</td>\n",
              "      <td>1</td>\n",
              "      <td>0.002</td>\n",
              "      <td>0.000</td>\n",
              "      <td>0.002</td>\n",
              "      <td>3</td>\n",
              "      <td>3</td>\n",
              "      <td>1</td>\n",
              "      <td>3</td>\n",
              "      <td>1</td>\n",
              "      <td>0</td>\n",
              "      <td>2010</td>\n",
              "    </tr>\n",
              "    <tr>\n",
              "      <th>4</th>\n",
              "      <td>1111B0</td>\n",
              "      <td>Fresh wheat, corn, rice, and other grains</td>\n",
              "      <td>0</td>\n",
              "      <td>0</td>\n",
              "      <td>0.659</td>\n",
              "      <td>0.081</td>\n",
              "      <td>0.740</td>\n",
              "      <td>4</td>\n",
              "      <td>3</td>\n",
              "      <td>1</td>\n",
              "      <td>4</td>\n",
              "      <td>1</td>\n",
              "      <td>0</td>\n",
              "      <td>2010</td>\n",
              "    </tr>\n",
              "  </tbody>\n",
              "</table>\n",
              "</div>\n",
              "    <div class=\"colab-df-buttons\">\n",
              "\n",
              "  <div class=\"colab-df-container\">\n",
              "    <button class=\"colab-df-convert\" onclick=\"convertToInteractive('df-03453640-ecfb-4950-b657-1e8b0fe94b7d')\"\n",
              "            title=\"Convert this dataframe to an interactive table.\"\n",
              "            style=\"display:none;\">\n",
              "\n",
              "  <svg xmlns=\"http://www.w3.org/2000/svg\" height=\"24px\" viewBox=\"0 -960 960 960\">\n",
              "    <path d=\"M120-120v-720h720v720H120Zm60-500h600v-160H180v160Zm220 220h160v-160H400v160Zm0 220h160v-160H400v160ZM180-400h160v-160H180v160Zm440 0h160v-160H620v160ZM180-180h160v-160H180v160Zm440 0h160v-160H620v160Z\"/>\n",
              "  </svg>\n",
              "    </button>\n",
              "\n",
              "  <style>\n",
              "    .colab-df-container {\n",
              "      display:flex;\n",
              "      gap: 12px;\n",
              "    }\n",
              "\n",
              "    .colab-df-convert {\n",
              "      background-color: #E8F0FE;\n",
              "      border: none;\n",
              "      border-radius: 50%;\n",
              "      cursor: pointer;\n",
              "      display: none;\n",
              "      fill: #1967D2;\n",
              "      height: 32px;\n",
              "      padding: 0 0 0 0;\n",
              "      width: 32px;\n",
              "    }\n",
              "\n",
              "    .colab-df-convert:hover {\n",
              "      background-color: #E2EBFA;\n",
              "      box-shadow: 0px 1px 2px rgba(60, 64, 67, 0.3), 0px 1px 3px 1px rgba(60, 64, 67, 0.15);\n",
              "      fill: #174EA6;\n",
              "    }\n",
              "\n",
              "    .colab-df-buttons div {\n",
              "      margin-bottom: 4px;\n",
              "    }\n",
              "\n",
              "    [theme=dark] .colab-df-convert {\n",
              "      background-color: #3B4455;\n",
              "      fill: #D2E3FC;\n",
              "    }\n",
              "\n",
              "    [theme=dark] .colab-df-convert:hover {\n",
              "      background-color: #434B5C;\n",
              "      box-shadow: 0px 1px 3px 1px rgba(0, 0, 0, 0.15);\n",
              "      filter: drop-shadow(0px 1px 2px rgba(0, 0, 0, 0.3));\n",
              "      fill: #FFFFFF;\n",
              "    }\n",
              "  </style>\n",
              "\n",
              "    <script>\n",
              "      const buttonEl =\n",
              "        document.querySelector('#df-03453640-ecfb-4950-b657-1e8b0fe94b7d button.colab-df-convert');\n",
              "      buttonEl.style.display =\n",
              "        google.colab.kernel.accessAllowed ? 'block' : 'none';\n",
              "\n",
              "      async function convertToInteractive(key) {\n",
              "        const element = document.querySelector('#df-03453640-ecfb-4950-b657-1e8b0fe94b7d');\n",
              "        const dataTable =\n",
              "          await google.colab.kernel.invokeFunction('convertToInteractive',\n",
              "                                                    [key], {});\n",
              "        if (!dataTable) return;\n",
              "\n",
              "        const docLinkHtml = 'Like what you see? Visit the ' +\n",
              "          '<a target=\"_blank\" href=https://colab.research.google.com/notebooks/data_table.ipynb>data table notebook</a>'\n",
              "          + ' to learn more about interactive tables.';\n",
              "        element.innerHTML = '';\n",
              "        dataTable['output_type'] = 'display_data';\n",
              "        await google.colab.output.renderOutput(dataTable, element);\n",
              "        const docLink = document.createElement('div');\n",
              "        docLink.innerHTML = docLinkHtml;\n",
              "        element.appendChild(docLink);\n",
              "      }\n",
              "    </script>\n",
              "  </div>\n",
              "\n",
              "\n",
              "    <div id=\"df-89d33266-4c32-4276-91f3-4a86b860964d\">\n",
              "      <button class=\"colab-df-quickchart\" onclick=\"quickchart('df-89d33266-4c32-4276-91f3-4a86b860964d')\"\n",
              "                title=\"Suggest charts\"\n",
              "                style=\"display:none;\">\n",
              "\n",
              "<svg xmlns=\"http://www.w3.org/2000/svg\" height=\"24px\"viewBox=\"0 0 24 24\"\n",
              "     width=\"24px\">\n",
              "    <g>\n",
              "        <path d=\"M19 3H5c-1.1 0-2 .9-2 2v14c0 1.1.9 2 2 2h14c1.1 0 2-.9 2-2V5c0-1.1-.9-2-2-2zM9 17H7v-7h2v7zm4 0h-2V7h2v10zm4 0h-2v-4h2v4z\"/>\n",
              "    </g>\n",
              "</svg>\n",
              "      </button>\n",
              "\n",
              "<style>\n",
              "  .colab-df-quickchart {\n",
              "      --bg-color: #E8F0FE;\n",
              "      --fill-color: #1967D2;\n",
              "      --hover-bg-color: #E2EBFA;\n",
              "      --hover-fill-color: #174EA6;\n",
              "      --disabled-fill-color: #AAA;\n",
              "      --disabled-bg-color: #DDD;\n",
              "  }\n",
              "\n",
              "  [theme=dark] .colab-df-quickchart {\n",
              "      --bg-color: #3B4455;\n",
              "      --fill-color: #D2E3FC;\n",
              "      --hover-bg-color: #434B5C;\n",
              "      --hover-fill-color: #FFFFFF;\n",
              "      --disabled-bg-color: #3B4455;\n",
              "      --disabled-fill-color: #666;\n",
              "  }\n",
              "\n",
              "  .colab-df-quickchart {\n",
              "    background-color: var(--bg-color);\n",
              "    border: none;\n",
              "    border-radius: 50%;\n",
              "    cursor: pointer;\n",
              "    display: none;\n",
              "    fill: var(--fill-color);\n",
              "    height: 32px;\n",
              "    padding: 0;\n",
              "    width: 32px;\n",
              "  }\n",
              "\n",
              "  .colab-df-quickchart:hover {\n",
              "    background-color: var(--hover-bg-color);\n",
              "    box-shadow: 0 1px 2px rgba(60, 64, 67, 0.3), 0 1px 3px 1px rgba(60, 64, 67, 0.15);\n",
              "    fill: var(--button-hover-fill-color);\n",
              "  }\n",
              "\n",
              "  .colab-df-quickchart-complete:disabled,\n",
              "  .colab-df-quickchart-complete:disabled:hover {\n",
              "    background-color: var(--disabled-bg-color);\n",
              "    fill: var(--disabled-fill-color);\n",
              "    box-shadow: none;\n",
              "  }\n",
              "\n",
              "  .colab-df-spinner {\n",
              "    border: 2px solid var(--fill-color);\n",
              "    border-color: transparent;\n",
              "    border-bottom-color: var(--fill-color);\n",
              "    animation:\n",
              "      spin 1s steps(1) infinite;\n",
              "  }\n",
              "\n",
              "  @keyframes spin {\n",
              "    0% {\n",
              "      border-color: transparent;\n",
              "      border-bottom-color: var(--fill-color);\n",
              "      border-left-color: var(--fill-color);\n",
              "    }\n",
              "    20% {\n",
              "      border-color: transparent;\n",
              "      border-left-color: var(--fill-color);\n",
              "      border-top-color: var(--fill-color);\n",
              "    }\n",
              "    30% {\n",
              "      border-color: transparent;\n",
              "      border-left-color: var(--fill-color);\n",
              "      border-top-color: var(--fill-color);\n",
              "      border-right-color: var(--fill-color);\n",
              "    }\n",
              "    40% {\n",
              "      border-color: transparent;\n",
              "      border-right-color: var(--fill-color);\n",
              "      border-top-color: var(--fill-color);\n",
              "    }\n",
              "    60% {\n",
              "      border-color: transparent;\n",
              "      border-right-color: var(--fill-color);\n",
              "    }\n",
              "    80% {\n",
              "      border-color: transparent;\n",
              "      border-right-color: var(--fill-color);\n",
              "      border-bottom-color: var(--fill-color);\n",
              "    }\n",
              "    90% {\n",
              "      border-color: transparent;\n",
              "      border-bottom-color: var(--fill-color);\n",
              "    }\n",
              "  }\n",
              "</style>\n",
              "\n",
              "      <script>\n",
              "        async function quickchart(key) {\n",
              "          const quickchartButtonEl =\n",
              "            document.querySelector('#' + key + ' button');\n",
              "          quickchartButtonEl.disabled = true;  // To prevent multiple clicks.\n",
              "          quickchartButtonEl.classList.add('colab-df-spinner');\n",
              "          try {\n",
              "            const charts = await google.colab.kernel.invokeFunction(\n",
              "                'suggestCharts', [key], {});\n",
              "          } catch (error) {\n",
              "            console.error('Error during call to suggestCharts:', error);\n",
              "          }\n",
              "          quickchartButtonEl.classList.remove('colab-df-spinner');\n",
              "          quickchartButtonEl.classList.add('colab-df-quickchart-complete');\n",
              "        }\n",
              "        (() => {\n",
              "          let quickchartButtonEl =\n",
              "            document.querySelector('#df-89d33266-4c32-4276-91f3-4a86b860964d button');\n",
              "          quickchartButtonEl.style.display =\n",
              "            google.colab.kernel.accessAllowed ? 'block' : 'none';\n",
              "        })();\n",
              "      </script>\n",
              "    </div>\n",
              "\n",
              "    </div>\n",
              "  </div>\n"
            ],
            "text/plain": [
              "     Code                                               Name  Substance  Unit  \\\n",
              "0  1111A0  Fresh soybeans, canola, flaxseeds, and other o...          0     0   \n",
              "1  1111A0  Fresh soybeans, canola, flaxseeds, and other o...          1     0   \n",
              "2  1111A0  Fresh soybeans, canola, flaxseeds, and other o...          2     0   \n",
              "3  1111A0  Fresh soybeans, canola, flaxseeds, and other o...          3     1   \n",
              "4  1111B0          Fresh wheat, corn, rice, and other grains          0     0   \n",
              "\n",
              "   Supply Chain Emission Factors without Margins  \\\n",
              "0                                          0.398   \n",
              "1                                          0.001   \n",
              "2                                          0.002   \n",
              "3                                          0.002   \n",
              "4                                          0.659   \n",
              "\n",
              "   Margins of Supply Chain Emission Factors  \\\n",
              "0                                     0.073   \n",
              "1                                     0.001   \n",
              "2                                     0.000   \n",
              "3                                     0.000   \n",
              "4                                     0.081   \n",
              "\n",
              "   Supply Chain Emission Factors with Margins  \\\n",
              "0                                       0.470   \n",
              "1                                       0.002   \n",
              "2                                       0.002   \n",
              "3                                       0.002   \n",
              "4                                       0.740   \n",
              "\n",
              "   DQ ReliabilityScore of Factors without Margins  \\\n",
              "0                                               4   \n",
              "1                                               4   \n",
              "2                                               4   \n",
              "3                                               3   \n",
              "4                                               4   \n",
              "\n",
              "   DQ TemporalCorrelation of Factors without Margins  \\\n",
              "0                                                  3   \n",
              "1                                                  3   \n",
              "2                                                  3   \n",
              "3                                                  3   \n",
              "4                                                  3   \n",
              "\n",
              "   DQ GeographicalCorrelation of Factors without Margins  \\\n",
              "0                                                  1       \n",
              "1                                                  1       \n",
              "2                                                  1       \n",
              "3                                                  1       \n",
              "4                                                  1       \n",
              "\n",
              "   DQ TechnologicalCorrelation of Factors without Margins  \\\n",
              "0                                                  4        \n",
              "1                                                  1        \n",
              "2                                                  4        \n",
              "3                                                  3        \n",
              "4                                                  4        \n",
              "\n",
              "   DQ DataCollection of Factors without Margins  Source  Year  \n",
              "0                                             1       0  2010  \n",
              "1                                             1       0  2010  \n",
              "2                                             1       0  2010  \n",
              "3                                             1       0  2010  \n",
              "4                                             1       0  2010  "
            ]
          },
          "execution_count": 22,
          "metadata": {},
          "output_type": "execute_result"
        }
      ],
      "source": [
        "excel_file = '/content/GHGemissionData.xlsx'  # Replace with actual path\n",
        "years = range(2010, 2017)\n",
        "\n",
        "all_data = []\n",
        "\n",
        "for year in years:\n",
        "    try:\n",
        "        df_com = pd.read_excel(excel_file, sheet_name=f'{year}_Detail_Commodity')\n",
        "        df_ind = pd.read_excel(excel_file, sheet_name=f'{year}_Detail_Industry')\n",
        "\n",
        "        df_com['Source'] = 'Commodity'\n",
        "        df_ind['Source'] = 'Industry'\n",
        "        df_com['Year'] = df_ind['Year'] = year\n",
        "\n",
        "        df_com.columns = df_com.columns.str.strip()\n",
        "        df_ind.columns = df_ind.columns.str.strip()\n",
        "\n",
        "        df_com.rename(columns={\n",
        "            'Commodity Code': 'Code',\n",
        "            'Commodity Name': 'Name'\n",
        "        }, inplace=True)\n",
        "\n",
        "        df_ind.rename(columns={\n",
        "            'Industry Code': 'Code',\n",
        "            'Industry Name': 'Name'\n",
        "        }, inplace=True)\n",
        "\n",
        "        all_data.append(pd.concat([df_com, df_ind], ignore_index=True))\n",
        "\n",
        "    except Exception as e:\n",
        "        print(f\"Error processing year {year}: {e}\")\n",
        "\n",
        "df = pd.concat(all_data, ignore_index=True)\n",
        "\n",
        "# Dropping the 'Unnamed: 7' column\n",
        "df.drop(columns=['Unnamed: 7'], inplace=True)\n",
        "\n",
        "# Mapping categorical variables\n",
        "substance_map = {'carbon dioxide': 0, 'methane': 1, 'nitrous oxide': 2, 'other GHGs': 3}\n",
        "df['Substance'] = df['Substance'].map(substance_map)\n",
        "\n",
        "unit_map = {'kg/2018 USD, purchaser price': 0, 'kg CO2e/2018 USD, purchaser price': 1}\n",
        "df['Unit'] = df['Unit'].map(unit_map)\n",
        "\n",
        "source_map = {'Commodity': 0, 'Industry': 1}\n",
        "df['Source'] = df['Source'].map(source_map)\n",
        "\n",
        "df.head()"
      ]
    },
    {
      "cell_type": "code",
      "execution_count": null,
      "id": "sgnxO8cy2blO",
      "metadata": {
        "colab": {
          "background_save": true
        },
        "id": "sgnxO8cy2blO",
        "outputId": "b63c2a0a-96c2-4c39-a2ea-4a0449742fd6"
      },
      "outputs": [
        {
          "data": {
            "image/png": "[encoded data removed]",
            "text/plain": [
              "<Figure size 1000x600 with 1 Axes>"
            ]
          },
          "metadata": {},
          "output_type": "display_data"
        }
      ],
      "source": [
        "from sklearn.ensemble import RandomForestRegressor\n",
        "import numpy as np\n",
        "import pandas as pd\n",
        "\n",
        "# Assuming 'GHG_Emissions_kgCO2e' is your target column\n",
        "X = df.drop('Supply Chain Emission Factors with Margins', axis=1)\n",
        "y = df['Supply Chain Emission Factors with Margins']\n",
        "\n",
        "# Encode categorical variables\n",
        "X = pd.get_dummies(X)\n",
        "\n",
        "# Train Random Forest\n",
        "model_rf = RandomForestRegressor(random_state=42)\n",
        "model_rf.fit(X, y)\n",
        "\n",
        "# Plot top 10 important features\n",
        "importances = model_rf.feature_importances_\n",
        "indices = np.argsort(importances)[::-1]\n",
        "\n",
        "plt.figure(figsize=(10, 6))\n",
        "plt.title(\"Feature Importance\")\n",
        "sns.barplot(x=importances[indices][:10], y=X.columns[indices][:10])\n",
        "plt.show()"
      ]
    },
    {
      "cell_type": "code",
      "execution_count": 8,
      "id": "BjlDKhkq2vbN",
      "metadata": {
        "colab": {
          "base_uri": "https://localhost:8080/",
          "height": 599
        },
        "id": "BjlDKhkq2vbN",
        "outputId": "c72cbd2d-8f21-4211-fffc-774f2a9d1ae4"
      },
      "outputs": [
        {
          "data": {
            "image/png": "[encoded data removed]",
            "text/plain": [
              "<Figure size 600x600 with 1 Axes>"
            ]
          },
          "metadata": {},
          "output_type": "display_data"
        },
        {
          "name": "stdout",
          "output_type": "stream",
          "text": [
            "R² Score: 0.9998820343971079\n",
            "RMSE: 0.0025741398377032254\n"
          ]
        }
      ],
      "source": [
        "from sklearn.model_selection import train_test_split\n",
        "from sklearn.metrics import mean_squared_error, r2_score\n",
        "\n",
        "X_train, X_test, y_train, y_test = train_test_split(X, y, test_size=0.2, random_state=42)\n",
        "y_pred = model_rf.predict(X_test)\n",
        "\n",
        "plt.figure(figsize=(6, 6))\n",
        "plt.scatter(y_test, y_pred, alpha=0.6)\n",
        "plt.plot([y_test.min(), y_test.max()], [y_test.min(), y_test.max()], 'k--', lw=2)\n",
        "plt.xlabel('Actual')\n",
        "plt.ylabel('Predicted')\n",
        "plt.title('Actual vs Predicted GHG Emissions')\n",
        "plt.show()\n",
        "\n",
        "print(\"R² Score:\", r2_score(y_test, y_pred))\n",
        "mse = mean_squared_error(y_test, y_pred)\n",
        "rmse = np.sqrt(mse)\n",
        "print(\"RMSE:\", rmse)"
      ]
    },
    {
      "cell_type": "code",
      "execution_count": null,
      "id": "7z6CSICP24sB",
      "metadata": {
        "id": "7z6CSICP24sB"
      },
      "outputs": [],
      "source": []
    },
    {
      "cell_type": "code",
      "execution_count": 4,
      "id": "7102ab11",
      "metadata": {
        "colab": {
          "base_uri": "https://localhost:8080/"
        },
        "id": "7102ab11",
        "outputId": "1f552b17-2f84-49cf-94cc-d280590fe2ed"
      },
      "outputs": [
        {
          "name": "stdout",
          "output_type": "stream",
          "text": [
            "['.config', 'sample_data']\n"
          ]
        }
      ],
      "source": [
        "import os\n",
        "print(os.listdir('/content/'))"
      ]
    },
    {
      "cell_type": "code",
      "execution_count": 9,
      "id": "009cff9e",
      "metadata": {
        "colab": {
          "base_uri": "https://localhost:8080/",
          "height": 729
        },
        "id": "009cff9e",
        "outputId": "e318edc9-bfe4-440b-be73-3516f42e4078"
      },
      "outputs": [
        {
          "data": {
            "application/vnd.google.colaboratory.intrinsic+json": {
              "summary": "{\n  \"name\": \"df\",\n  \"rows\": 22092,\n  \"fields\": [\n    {\n      \"column\": \"Code\",\n      \"properties\": {\n        \"dtype\": \"category\",\n        \"num_unique_values\": 395,\n        \"samples\": [\n          \"322120\",\n          \"711200\",\n          \"336991\"\n        ],\n        \"semantic_type\": \"\",\n        \"description\": \"\"\n      }\n    },\n    {\n      \"column\": \"Name\",\n      \"properties\": {\n        \"dtype\": \"category\",\n        \"num_unique_values\": 713,\n        \"samples\": [\n          \"Clay and ceramic products\",\n          \"Lessors of nonfinancial intangible assets\",\n          \"Corn products\"\n        ],\n        \"semantic_type\": \"\",\n        \"description\": \"\"\n      }\n    },\n    {\n      \"column\": \"Substance\",\n      \"properties\": {\n        \"dtype\": \"number\",\n        \"std\": 1,\n        \"min\": 0,\n        \"max\": 3,\n        \"num_unique_values\": 4,\n        \"samples\": [\n          1,\n          3,\n          0\n        ],\n        \"semantic_type\": \"\",\n        \"description\": \"\"\n      }\n    },\n    {\n      \"column\": \"Unit\",\n      \"properties\": {\n        \"dtype\": \"number\",\n        \"std\": 0,\n        \"min\": 0,\n        \"max\": 1,\n        \"num_unique_values\": 2,\n        \"samples\": [\n          1,\n          0\n        ],\n        \"semantic_type\": \"\",\n        \"description\": \"\"\n      }\n    },\n    {\n      \"column\": \"Supply Chain Emission Factors without Margins\",\n      \"properties\": {\n        \"dtype\": \"number\",\n        \"std\": 0.26703925843299803,\n        \"min\": 0.0,\n        \"max\": 7.228,\n        \"num_unique_values\": 982,\n        \"samples\": [\n          1.654,\n          0.519\n        ],\n        \"semantic_type\": \"\",\n        \"description\": \"\"\n      }\n    },\n    {\n      \"column\": \"Margins of Supply Chain Emission Factors\",\n      \"properties\": {\n        \"dtype\": \"number\",\n        \"std\": 0.07871952502785244,\n        \"min\": 0.0,\n        \"max\": 3.349,\n        \"num_unique_values\": 333,\n        \"samples\": [\n          0.099,\n          0.743\n        ],\n        \"semantic_type\": \"\",\n        \"description\": \"\"\n      }\n    },\n    {\n      \"column\": \"Supply Chain Emission Factors with Margins\",\n      \"properties\": {\n        \"dtype\": \"number\",\n        \"std\": 0.2889924989112152,\n        \"min\": 0.0,\n        \"max\": 7.29,\n        \"num_unique_values\": 1056,\n        \"samples\": [\n          0.461,\n          4.083\n        ],\n        \"semantic_type\": \"\",\n        \"description\": \"\"\n      }\n    },\n    {\n      \"column\": \"DQ ReliabilityScore of Factors without Margins\",\n      \"properties\": {\n        \"dtype\": \"number\",\n        \"std\": 0,\n        \"min\": 2,\n        \"max\": 4,\n        \"num_unique_values\": 3,\n        \"samples\": [\n          4,\n          3\n        ],\n        \"semantic_type\": \"\",\n        \"description\": \"\"\n      }\n    },\n    {\n      \"column\": \"DQ TemporalCorrelation of Factors without Margins\",\n      \"properties\": {\n        \"dtype\": \"number\",\n        \"std\": 0,\n        \"min\": 2,\n        \"max\": 3,\n        \"num_unique_values\": 2,\n        \"samples\": [\n          2,\n          3\n        ],\n        \"semantic_type\": \"\",\n        \"description\": \"\"\n      }\n    },\n    {\n      \"column\": \"DQ GeographicalCorrelation of Factors without Margins\",\n      \"properties\": {\n        \"dtype\": \"number\",\n        \"std\": 0,\n        \"min\": 1,\n        \"max\": 1,\n        \"num_unique_values\": 1,\n        \"samples\": [\n          1\n        ],\n        \"semantic_type\": \"\",\n        \"description\": \"\"\n      }\n    },\n    {\n      \"column\": \"DQ TechnologicalCorrelation of Factors without Margins\",\n      \"properties\": {\n        \"dtype\": \"number\",\n        \"std\": 1,\n        \"min\": 1,\n        \"max\": 5,\n        \"num_unique_values\": 5,\n        \"samples\": [\n          1\n        ],\n        \"semantic_type\": \"\",\n        \"description\": \"\"\n      }\n    },\n    {\n      \"column\": \"DQ DataCollection of Factors without Margins\",\n      \"properties\": {\n        \"dtype\": \"number\",\n        \"std\": 0,\n        \"min\": 1,\n        \"max\": 1,\n        \"num_unique_values\": 1,\n        \"samples\": [\n          1\n        ],\n        \"semantic_type\": \"\",\n        \"description\": \"\"\n      }\n    },\n    {\n      \"column\": \"Source\",\n      \"properties\": {\n        \"dtype\": \"number\",\n        \"std\": 0,\n        \"min\": 0,\n        \"max\": 1,\n        \"num_unique_values\": 2,\n        \"samples\": [\n          1\n        ],\n        \"semantic_type\": \"\",\n        \"description\": \"\"\n      }\n    },\n    {\n      \"column\": \"Year\",\n      \"properties\": {\n        \"dtype\": \"number\",\n        \"std\": 2,\n        \"min\": 2010,\n        \"max\": 2016,\n        \"num_unique_values\": 7,\n        \"samples\": [\n          2010\n        ],\n        \"semantic_type\": \"\",\n        \"description\": \"\"\n      }\n    }\n  ]\n}",
              "type": "dataframe",
              "variable_name": "df"
            },
            "text/html": [
              "\n",
              "  <div id=\"df-414abf72-6940-4f0e-8836-926f82ec8197\" class=\"colab-df-container\">\n",
              "    <div>\n",
              "<style scoped>\n",
              "    .dataframe tbody tr th:only-of-type {\n",
              "        vertical-align: middle;\n",
              "    }\n",
              "\n",
              "    .dataframe tbody tr th {\n",
              "        vertical-align: top;\n",
              "    }\n",
              "\n",
              "    .dataframe thead th {\n",
              "        text-align: right;\n",
              "    }\n",
              "</style>\n",
              "<table border=\"1\" class=\"dataframe\">\n",
              "  <thead>\n",
              "    <tr style=\"text-align: right;\">\n",
              "      <th></th>\n",
              "      <th>Code</th>\n",
              "      <th>Name</th>\n",
              "      <th>Substance</th>\n",
              "      <th>Unit</th>\n",
              "      <th>Supply Chain Emission Factors without Margins</th>\n",
              "      <th>Margins of Supply Chain Emission Factors</th>\n",
              "      <th>Supply Chain Emission Factors with Margins</th>\n",
              "      <th>DQ ReliabilityScore of Factors without Margins</th>\n",
              "      <th>DQ TemporalCorrelation of Factors without Margins</th>\n",
              "      <th>DQ GeographicalCorrelation of Factors without Margins</th>\n",
              "      <th>DQ TechnologicalCorrelation of Factors without Margins</th>\n",
              "      <th>DQ DataCollection of Factors without Margins</th>\n",
              "      <th>Source</th>\n",
              "      <th>Year</th>\n",
              "    </tr>\n",
              "  </thead>\n",
              "  <tbody>\n",
              "    <tr>\n",
              "      <th>0</th>\n",
              "      <td>1111A0</td>\n",
              "      <td>Fresh soybeans, canola, flaxseeds, and other o...</td>\n",
              "      <td>0</td>\n",
              "      <td>0</td>\n",
              "      <td>0.398</td>\n",
              "      <td>0.073</td>\n",
              "      <td>0.470</td>\n",
              "      <td>4</td>\n",
              "      <td>3</td>\n",
              "      <td>1</td>\n",
              "      <td>4</td>\n",
              "      <td>1</td>\n",
              "      <td>0</td>\n",
              "      <td>2010</td>\n",
              "    </tr>\n",
              "    <tr>\n",
              "      <th>1</th>\n",
              "      <td>1111A0</td>\n",
              "      <td>Fresh soybeans, canola, flaxseeds, and other o...</td>\n",
              "      <td>1</td>\n",
              "      <td>0</td>\n",
              "      <td>0.001</td>\n",
              "      <td>0.001</td>\n",
              "      <td>0.002</td>\n",
              "      <td>4</td>\n",
              "      <td>3</td>\n",
              "      <td>1</td>\n",
              "      <td>1</td>\n",
              "      <td>1</td>\n",
              "      <td>0</td>\n",
              "      <td>2010</td>\n",
              "    </tr>\n",
              "    <tr>\n",
              "      <th>2</th>\n",
              "      <td>1111A0</td>\n",
              "      <td>Fresh soybeans, canola, flaxseeds, and other o...</td>\n",
              "      <td>2</td>\n",
              "      <td>0</td>\n",
              "      <td>0.002</td>\n",
              "      <td>0.000</td>\n",
              "      <td>0.002</td>\n",
              "      <td>4</td>\n",
              "      <td>3</td>\n",
              "      <td>1</td>\n",
              "      <td>4</td>\n",
              "      <td>1</td>\n",
              "      <td>0</td>\n",
              "      <td>2010</td>\n",
              "    </tr>\n",
              "    <tr>\n",
              "      <th>3</th>\n",
              "      <td>1111A0</td>\n",
              "      <td>Fresh soybeans, canola, flaxseeds, and other o...</td>\n",
              "      <td>3</td>\n",
              "      <td>1</td>\n",
              "      <td>0.002</td>\n",
              "      <td>0.000</td>\n",
              "      <td>0.002</td>\n",
              "      <td>3</td>\n",
              "      <td>3</td>\n",
              "      <td>1</td>\n",
              "      <td>3</td>\n",
              "      <td>1</td>\n",
              "      <td>0</td>\n",
              "      <td>2010</td>\n",
              "    </tr>\n",
              "    <tr>\n",
              "      <th>4</th>\n",
              "      <td>1111B0</td>\n",
              "      <td>Fresh wheat, corn, rice, and other grains</td>\n",
              "      <td>0</td>\n",
              "      <td>0</td>\n",
              "      <td>0.659</td>\n",
              "      <td>0.081</td>\n",
              "      <td>0.740</td>\n",
              "      <td>4</td>\n",
              "      <td>3</td>\n",
              "      <td>1</td>\n",
              "      <td>4</td>\n",
              "      <td>1</td>\n",
              "      <td>0</td>\n",
              "      <td>2010</td>\n",
              "    </tr>\n",
              "  </tbody>\n",
              "</table>\n",
              "</div>\n",
              "    <div class=\"colab-df-buttons\">\n",
              "\n",
              "  <div class=\"colab-df-container\">\n",
              "    <button class=\"colab-df-convert\" onclick=\"convertToInteractive('df-414abf72-6940-4f0e-8836-926f82ec8197')\"\n",
              "            title=\"Convert this dataframe to an interactive table.\"\n",
              "            style=\"display:none;\">\n",
              "\n",
              "  <svg xmlns=\"http://www.w3.org/2000/svg\" height=\"24px\" viewBox=\"0 -960 960 960\">\n",
              "    <path d=\"M120-120v-720h720v720H120Zm60-500h600v-160H180v160Zm220 220h160v-160H400v160Zm0 220h160v-160H400v160ZM180-400h160v-160H180v160Zm440 0h160v-160H620v160ZM180-180h160v-160H180v160Zm440 0h160v-160H620v160Z\"/>\n",
              "  </svg>\n",
              "    </button>\n",
              "\n",
              "  <style>\n",
              "    .colab-df-container {\n",
              "      display:flex;\n",
              "      gap: 12px;\n",
              "    }\n",
              "\n",
              "    .colab-df-convert {\n",
              "      background-color: #E8F0FE;\n",
              "      border: none;\n",
              "      border-radius: 50%;\n",
              "      cursor: pointer;\n",
              "      display: none;\n",
              "      fill: #1967D2;\n",
              "      height: 32px;\n",
              "      padding: 0 0 0 0;\n",
              "      width: 32px;\n",
              "    }\n",
              "\n",
              "    .colab-df-convert:hover {\n",
              "      background-color: #E2EBFA;\n",
              "      box-shadow: 0px 1px 2px rgba(60, 64, 67, 0.3), 0px 1px 3px 1px rgba(60, 64, 67, 0.15);\n",
              "      fill: #174EA6;\n",
              "    }\n",
              "\n",
              "    .colab-df-buttons div {\n",
              "      margin-bottom: 4px;\n",
              "    }\n",
              "\n",
              "    [theme=dark] .colab-df-convert {\n",
              "      background-color: #3B4455;\n",
              "      fill: #D2E3FC;\n",
              "    }\n",
              "\n",
              "    [theme=dark] .colab-df-convert:hover {\n",
              "      background-color: #434B5C;\n",
              "      box-shadow: 0px 1px 3px 1px rgba(0, 0, 0, 0.15);\n",
              "      filter: drop-shadow(0px 1px 2px rgba(0, 0, 0, 0.3));\n",
              "      fill: #FFFFFF;\n",
              "    }\n",
              "  </style>\n",
              "\n",
              "    <script>\n",
              "      const buttonEl =\n",
              "        document.querySelector('#df-414abf72-6940-4f0e-8836-926f82ec8197 button.colab-df-convert');\n",
              "      buttonEl.style.display =\n",
              "        google.colab.kernel.accessAllowed ? 'block' : 'none';\n",
              "\n",
              "      async function convertToInteractive(key) {\n",
              "        const element = document.querySelector('#df-414abf72-6940-4f0e-8836-926f82ec8197');\n",
              "        const dataTable =\n",
              "          await google.colab.kernel.invokeFunction('convertToInteractive',\n",
              "                                                    [key], {});\n",
              "        if (!dataTable) return;\n",
              "\n",
              "        const docLinkHtml = 'Like what you see? Visit the ' +\n",
              "          '<a target=\"_blank\" href=https://colab.research.google.com/notebooks/data_table.ipynb>data table notebook</a>'\n",
              "          + ' to learn more about interactive tables.';\n",
              "        element.innerHTML = '';\n",
              "        dataTable['output_type'] = 'display_data';\n",
              "        await google.colab.output.renderOutput(dataTable, element);\n",
              "        const docLink = document.createElement('div');\n",
              "        docLink.innerHTML = docLinkHtml;\n",
              "        element.appendChild(docLink);\n",
              "      }\n",
              "    </script>\n",
              "  </div>\n",
              "\n",
              "\n",
              "    <div id=\"df-08fe7e8f-f8c3-42e4-9282-0d245ab1b1af\">\n",
              "      <button class=\"colab-df-quickchart\" onclick=\"quickchart('df-08fe7e8f-f8c3-42e4-9282-0d245ab1b1af')\"\n",
              "                title=\"Suggest charts\"\n",
              "                style=\"display:none;\">\n",
              "\n",
              "<svg xmlns=\"http://www.w3.org/2000/svg\" height=\"24px\"viewBox=\"0 0 24 24\"\n",
              "     width=\"24px\">\n",
              "    <g>\n",
              "        <path d=\"M19 3H5c-1.1 0-2 .9-2 2v14c0 1.1.9 2 2 2h14c1.1 0 2-.9 2-2V5c0-1.1-.9-2-2-2zM9 17H7v-7h2v7zm4 0h-2V7h2v10zm4 0h-2v-4h2v4z\"/>\n",
              "    </g>\n",
              "</svg>\n",
              "      </button>\n",
              "\n",
              "<style>\n",
              "  .colab-df-quickchart {\n",
              "      --bg-color: #E8F0FE;\n",
              "      --fill-color: #1967D2;\n",
              "      --hover-bg-color: #E2EBFA;\n",
              "      --hover-fill-color: #174EA6;\n",
              "      --disabled-fill-color: #AAA;\n",
              "      --disabled-bg-color: #DDD;\n",
              "  }\n",
              "\n",
              "  [theme=dark] .colab-df-quickchart {\n",
              "      --bg-color: #3B4455;\n",
              "      --fill-color: #D2E3FC;\n",
              "      --hover-bg-color: #434B5C;\n",
              "      --hover-fill-color: #FFFFFF;\n",
              "      --disabled-bg-color: #3B4455;\n",
              "      --disabled-fill-color: #666;\n",
              "  }\n",
              "\n",
              "  .colab-df-quickchart {\n",
              "    background-color: var(--bg-color);\n",
              "    border: none;\n",
              "    border-radius: 50%;\n",
              "    cursor: pointer;\n",
              "    display: none;\n",
              "    fill: var(--fill-color);\n",
              "    height: 32px;\n",
              "    padding: 0;\n",
              "    width: 32px;\n",
              "  }\n",
              "\n",
              "  .colab-df-quickchart:hover {\n",
              "    background-color: var(--hover-bg-color);\n",
              "    box-shadow: 0 1px 2px rgba(60, 64, 67, 0.3), 0 1px 3px 1px rgba(60, 64, 67, 0.15);\n",
              "    fill: var(--button-hover-fill-color);\n",
              "  }\n",
              "\n",
              "  .colab-df-quickchart-complete:disabled,\n",
              "  .colab-df-quickchart-complete:disabled:hover {\n",
              "    background-color: var(--disabled-bg-color);\n",
              "    fill: var(--disabled-fill-color);\n",
              "    box-shadow: none;\n",
              "  }\n",
              "\n",
              "  .colab-df-spinner {\n",
              "    border: 2px solid var(--fill-color);\n",
              "    border-color: transparent;\n",
              "    border-bottom-color: var(--fill-color);\n",
              "    animation:\n",
              "      spin 1s steps(1) infinite;\n",
              "  }\n",
              "\n",
              "  @keyframes spin {\n",
              "    0% {\n",
              "      border-color: transparent;\n",
              "      border-bottom-color: var(--fill-color);\n",
              "      border-left-color: var(--fill-color);\n",
              "    }\n",
              "    20% {\n",
              "      border-color: transparent;\n",
              "      border-left-color: var(--fill-color);\n",
              "      border-top-color: var(--fill-color);\n",
              "    }\n",
              "    30% {\n",
              "      border-color: transparent;\n",
              "      border-left-color: var(--fill-color);\n",
              "      border-top-color: var(--fill-color);\n",
              "      border-right-color: var(--fill-color);\n",
              "    }\n",
              "    40% {\n",
              "      border-color: transparent;\n",
              "      border-right-color: var(--fill-color);\n",
              "      border-top-color: var(--fill-color);\n",
              "    }\n",
              "    60% {\n",
              "      border-color: transparent;\n",
              "      border-right-color: var(--fill-color);\n",
              "    }\n",
              "    80% {\n",
              "      border-color: transparent;\n",
              "      border-right-color: var(--fill-color);\n",
              "      border-bottom-color: var(--fill-color);\n",
              "    }\n",
              "    90% {\n",
              "      border-color: transparent;\n",
              "      border-bottom-color: var(--fill-color);\n",
              "    }\n",
              "  }\n",
              "</style>\n",
              "\n",
              "      <script>\n",
              "        async function quickchart(key) {\n",
              "          const quickchartButtonEl =\n",
              "            document.querySelector('#' + key + ' button');\n",
              "          quickchartButtonEl.disabled = true;  // To prevent multiple clicks.\n",
              "          quickchartButtonEl.classList.add('colab-df-spinner');\n",
              "          try {\n",
              "            const charts = await google.colab.kernel.invokeFunction(\n",
              "                'suggestCharts', [key], {});\n",
              "          } catch (error) {\n",
              "            console.error('Error during call to suggestCharts:', error);\n",
              "          }\n",
              "          quickchartButtonEl.classList.remove('colab-df-spinner');\n",
              "          quickchartButtonEl.classList.add('colab-df-quickchart-complete');\n",
              "        }\n",
              "        (() => {\n",
              "          let quickchartButtonEl =\n",
              "            document.querySelector('#df-08fe7e8f-f8c3-42e4-9282-0d245ab1b1af button');\n",
              "          quickchartButtonEl.style.display =\n",
              "            google.colab.kernel.accessAllowed ? 'block' : 'none';\n",
              "        })();\n",
              "      </script>\n",
              "    </div>\n",
              "\n",
              "    </div>\n",
              "  </div>\n"
            ],
            "text/plain": [
              "     Code                                               Name  Substance  Unit  \\\n",
              "0  1111A0  Fresh soybeans, canola, flaxseeds, and other o...          0     0   \n",
              "1  1111A0  Fresh soybeans, canola, flaxseeds, and other o...          1     0   \n",
              "2  1111A0  Fresh soybeans, canola, flaxseeds, and other o...          2     0   \n",
              "3  1111A0  Fresh soybeans, canola, flaxseeds, and other o...          3     1   \n",
              "4  1111B0          Fresh wheat, corn, rice, and other grains          0     0   \n",
              "\n",
              "   Supply Chain Emission Factors without Margins  \\\n",
              "0                                          0.398   \n",
              "1                                          0.001   \n",
              "2                                          0.002   \n",
              "3                                          0.002   \n",
              "4                                          0.659   \n",
              "\n",
              "   Margins of Supply Chain Emission Factors  \\\n",
              "0                                     0.073   \n",
              "1                                     0.001   \n",
              "2                                     0.000   \n",
              "3                                     0.000   \n",
              "4                                     0.081   \n",
              "\n",
              "   Supply Chain Emission Factors with Margins  \\\n",
              "0                                       0.470   \n",
              "1                                       0.002   \n",
              "2                                       0.002   \n",
              "3                                       0.002   \n",
              "4                                       0.740   \n",
              "\n",
              "   DQ ReliabilityScore of Factors without Margins  \\\n",
              "0                                               4   \n",
              "1                                               4   \n",
              "2                                               4   \n",
              "3                                               3   \n",
              "4                                               4   \n",
              "\n",
              "   DQ TemporalCorrelation of Factors without Margins  \\\n",
              "0                                                  3   \n",
              "1                                                  3   \n",
              "2                                                  3   \n",
              "3                                                  3   \n",
              "4                                                  3   \n",
              "\n",
              "   DQ GeographicalCorrelation of Factors without Margins  \\\n",
              "0                                                  1       \n",
              "1                                                  1       \n",
              "2                                                  1       \n",
              "3                                                  1       \n",
              "4                                                  1       \n",
              "\n",
              "   DQ TechnologicalCorrelation of Factors without Margins  \\\n",
              "0                                                  4        \n",
              "1                                                  1        \n",
              "2                                                  4        \n",
              "3                                                  3        \n",
              "4                                                  4        \n",
              "\n",
              "   DQ DataCollection of Factors without Margins  Source  Year  \n",
              "0                                             1       0  2010  \n",
              "1                                             1       0  2010  \n",
              "2                                             1       0  2010  \n",
              "3                                             1       0  2010  \n",
              "4                                             1       0  2010  "
            ]
          },
          "execution_count": 9,
          "metadata": {},
          "output_type": "execute_result"
        }
      ],
      "source": [
        "excel_file = '/content/GHGemissionData.xlsx'  # Replace with actual path\n",
        "years = range(2010, 2017)\n",
        "\n",
        "all_data = []\n",
        "\n",
        "for year in years:\n",
        "    try:\n",
        "        df_com = pd.read_excel(excel_file, sheet_name=f'{year}_Detail_Commodity')\n",
        "        df_ind = pd.read_excel(excel_file, sheet_name=f'{year}_Detail_Industry')\n",
        "\n",
        "        df_com['Source'] = 'Commodity'\n",
        "        df_ind['Source'] = 'Industry'\n",
        "        df_com['Year'] = df_ind['Year'] = year\n",
        "\n",
        "        df_com.columns = df_com.columns.str.strip()\n",
        "        df_ind.columns = df_ind.columns.str.strip()\n",
        "\n",
        "        df_com.rename(columns={\n",
        "            'Commodity Code': 'Code',\n",
        "            'Commodity Name': 'Name'\n",
        "        }, inplace=True)\n",
        "\n",
        "        df_ind.rename(columns={\n",
        "            'Industry Code': 'Code',\n",
        "            'Industry Name': 'Name'\n",
        "        }, inplace=True)\n",
        "\n",
        "        all_data.append(pd.concat([df_com, df_ind], ignore_index=True))\n",
        "\n",
        "    except Exception as e:\n",
        "        print(f\"Error processing year {year}: {e}\")\n",
        "\n",
        "df = pd.concat(all_data, ignore_index=True)\n",
        "\n",
        "# Dropping the 'Unnamed: 7' column\n",
        "df.drop(columns=['Unnamed: 7'], inplace=True)\n",
        "\n",
        "# Mapping categorical variables\n",
        "substance_map = {'carbon dioxide': 0, 'methane': 1, 'nitrous oxide': 2, 'other GHGs': 3}\n",
        "df['Substance'] = df['Substance'].map(substance_map)\n",
        "\n",
        "unit_map = {'kg/2018 USD, purchaser price': 0, 'kg CO2e/2018 USD, purchaser price': 1}\n",
        "df['Unit'] = df['Unit'].map(unit_map)\n",
        "\n",
        "source_map = {'Commodity': 0, 'Industry': 1}\n",
        "df['Source'] = df['Source'].map(source_map)\n",
        "\n",
        "df.head()"
      ]
    },
    {
      "cell_type": "code",
      "execution_count": 7,
      "id": "bd666d7f",
      "metadata": {
        "colab": {
          "base_uri": "https://localhost:8080/",
          "height": 391
        },
        "id": "bd666d7f",
        "outputId": "048fe758-ef16-4d2f-cc6e-5cfe31834f0b"
      },
      "outputs": [
        {
          "data": {
            "image/png": "[encoded data removed]",
            "text/plain": [
              "<Figure size 1000x600 with 1 Axes>"
            ]
          },
          "metadata": {},
          "output_type": "display_data"
        }
      ],
      "source": [
        "from sklearn.ensemble import RandomForestRegressor\n",
        "import numpy as np\n",
        "import pandas as pd\n",
        "import matplotlib.pyplot as plt\n",
        "import seaborn as sns\n",
        "\n",
        "\n",
        "# Assuming 'GHG_Emissions_kgCO2e' is your target column\n",
        "X = df.drop('Supply Chain Emission Factors with Margins', axis=1)\n",
        "y = df['Supply Chain Emission Factors with Margins']\n",
        "\n",
        "# Encode categorical variables\n",
        "X = pd.get_dummies(X)\n",
        "\n",
        "# Train Random Forest\n",
        "model_rf = RandomForestRegressor(random_state=42)\n",
        "model_rf.fit(X, y)\n",
        "\n",
        "# Plot top 10 important features\n",
        "importances = model_rf.feature_importances_\n",
        "indices = np.argsort(importances)[::-1]\n",
        "\n",
        "plt.figure(figsize=(10, 6))\n",
        "plt.title(\"Feature Importance\")\n",
        "sns.barplot(x=importances[indices][:10], y=X.columns[indices][:10])\n",
        "plt.show()"
      ]
    },
    {
      "cell_type": "code",
      "execution_count": 10,
      "id": "85f51b98",
      "metadata": {
        "colab": {
          "base_uri": "https://localhost:8080/",
          "height": 599
        },
        "id": "85f51b98",
        "outputId": "a46deeb5-d4f1-44d4-b9eb-296b6355ddca"
      },
      "outputs": [
        {
          "data": {
            "image/png": "[encoded data removed]",
            "text/plain": [
              "<Figure size 600x600 with 1 Axes>"
            ]
          },
          "metadata": {},
          "output_type": "display_data"
        },
        {
          "name": "stdout",
          "output_type": "stream",
          "text": [
            "R² Score: 0.9998820343971079\n",
            "RMSE: 0.0025741398377032254\n"
          ]
        }
      ],
      "source": [
        "from sklearn.model_selection import train_test_split\n",
        "from sklearn.metrics import mean_squared_error, r2_score\n",
        "import matplotlib.pyplot as plt\n",
        "\n",
        "X_train, X_test, y_train, y_test = train_test_split(X, y, test_size=0.2, random_state=42)\n",
        "y_pred = model_rf.predict(X_test)\n",
        "\n",
        "plt.figure(figsize=(6, 6))\n",
        "plt.scatter(y_test, y_pred, alpha=0.6)\n",
        "plt.plot([y_test.min(), y_test.max()], [y_test.min(), y_test.max()], 'k--', lw=2)\n",
        "plt.xlabel('Actual')\n",
        "plt.ylabel('Predicted')\n",
        "plt.title('Actual vs Predicted GHG Emissions')\n",
        "plt.show()\n",
        "\n",
        "print(\"R² Score:\", r2_score(y_test, y_pred))\n",
        "mse = mean_squared_error(y_test, y_pred)\n",
        "rmse = np.sqrt(mse)\n",
        "print(\"RMSE:\", rmse)"
      ]
    }
  ],
  "metadata": {
    "colab": {
      "provenance": []
    },
    "kernelspec": {
      "display_name": "Python 3",
      "language": "python",
      "name": "python3"
    },
    "language_info": {
      "codemirror_mode": {
        "name": "ipython",
        "version": 3
      },
      "file_extension": ".py",
      "mimetype": "text/x-python",
      "name": "python",
      "nbconvert_exporter": "python",
      "pygments_lexer": "ipython3",
      "version": "3.12.8"
    }
  },
  "nbformat": 4,
  "nbformat_minor": 5
}
